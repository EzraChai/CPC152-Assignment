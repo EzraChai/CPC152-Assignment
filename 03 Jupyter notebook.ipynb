{
 "cells": [
  {
   "cell_type": "markdown",
   "id": "93b2906a-9bfd-4173-a00c-e5772683784d",
   "metadata": {},
   "source": [
    "# Assignment"
   ]
  },
  {
   "cell_type": "markdown",
   "id": "0f931dbd",
   "metadata": {},
   "source": [
    "# Task 1"
   ]
  },
  {
   "cell_type": "markdown",
   "id": "0a02e3b1",
   "metadata": {},
   "source": [
    "Chocolate industry is an important industry that supplies. Chocolate industry has a massive potential to expand their industry widely. \n",
    "The chocolate retail business depends on knowing what customers like, how products are selling, and what the market wants. With more competition today, chocolate sellers need to use data and make data analysis to make smart decisions that help them earn more and work better to expand their business.\n",
    "\n",
    "This analysis uses the 'Chocolate_Sales.csv' dataset, which includes detailed information about chocolate sales. For example, product types,sales person's name who sold the chocolates, number of boxes sold, sales revenue, and countries where the sales happened. The main goal is to find patterns and to look for ways to improve chocolate sales.\n",
    "\n",
    "The following questions will be asked:\n",
    "- Which chocolate products generate the highest revenue?\n",
    "- Which countries contribute most to the total sales?\n",
    "- Do sales vary significantly across different months?\n",
    "- Are there products that perform significantly better in specific countries?\n",
    "\n",
    "By answering these questions, this analysis can help improve stock management, create better marketing plans, and track how well the sales team is doing."
   ]
  },
  {
   "cell_type": "markdown",
   "id": "9060b107",
   "metadata": {},
   "source": [
    "# Import Data"
   ]
  },
  {
   "cell_type": "code",
   "execution_count": 8,
   "id": "0021070a-1330-4056-9b54-9fb119bfff69",
   "metadata": {},
   "outputs": [],
   "source": [
    "import pandas as pd\n",
    "import matplotlib.pyplot as plt\n",
    "\n",
    "df = pd.read_csv(\"Chocolate_Sales.csv\")"
   ]
  },
  {
   "cell_type": "markdown",
   "id": "8f988a75",
   "metadata": {},
   "source": []
  },
  {
   "cell_type": "code",
   "execution_count": 9,
   "id": "a9886e29-117f-44cb-9434-2324b951df65",
   "metadata": {},
   "outputs": [
    {
     "name": "stdout",
     "output_type": "stream",
     "text": [
      "<class 'pandas.core.frame.DataFrame'>\n",
      "RangeIndex: 1094 entries, 0 to 1093\n",
      "Data columns (total 6 columns):\n",
      " #   Column         Non-Null Count  Dtype \n",
      "---  ------         --------------  ----- \n",
      " 0   Sales Person   1094 non-null   object\n",
      " 1   Country        1094 non-null   object\n",
      " 2   Product        1094 non-null   object\n",
      " 3   Date           1094 non-null   object\n",
      " 4   Amount         1094 non-null   object\n",
      " 5   Boxes Shipped  1094 non-null   int64 \n",
      "dtypes: int64(1), object(5)\n",
      "memory usage: 51.4+ KB\n"
     ]
    }
   ],
   "source": [
    "df.info()"
   ]
  },
  {
   "cell_type": "markdown",
   "id": "f37fdbf4",
   "metadata": {},
   "source": [
    "# Cleaning Data"
   ]
  },
  {
   "cell_type": "code",
   "execution_count": 10,
   "id": "d1be5389",
   "metadata": {},
   "outputs": [
    {
     "data": {
      "text/plain": [
       "Sales Person     0\n",
       "Country          0\n",
       "Product          0\n",
       "Date             0\n",
       "Amount           0\n",
       "Boxes Shipped    0\n",
       "dtype: int64"
      ]
     },
     "execution_count": 10,
     "metadata": {},
     "output_type": "execute_result"
    }
   ],
   "source": [
    "df.isnull().sum()\n",
    "#Since it is zero for every column, therefore there is no empty data"
   ]
  },
  {
   "cell_type": "code",
   "execution_count": 11,
   "id": "fd0c4fa4",
   "metadata": {},
   "outputs": [
    {
     "data": {
      "text/plain": [
       "0"
      ]
     },
     "execution_count": 11,
     "metadata": {},
     "output_type": "execute_result"
    }
   ],
   "source": [
    "df.duplicated().sum()\n",
    "#Since there is no duplicated data, therefore there is no need to remove duplicated"
   ]
  },
  {
   "cell_type": "markdown",
   "id": "73f726f2",
   "metadata": {},
   "source": [
    "# Process Data"
   ]
  },
  {
   "cell_type": "code",
   "execution_count": 12,
   "id": "79f2eaa2",
   "metadata": {},
   "outputs": [
    {
     "name": "stdout",
     "output_type": "stream",
     "text": [
      "<class 'pandas.core.frame.DataFrame'>\n",
      "RangeIndex: 1094 entries, 0 to 1093\n",
      "Data columns (total 6 columns):\n",
      " #   Column         Non-Null Count  Dtype         \n",
      "---  ------         --------------  -----         \n",
      " 0   Sales Person   1094 non-null   object        \n",
      " 1   Country        1094 non-null   object        \n",
      " 2   Product        1094 non-null   object        \n",
      " 3   Date           1094 non-null   datetime64[ns]\n",
      " 4   Amount         1094 non-null   object        \n",
      " 5   Boxes Shipped  1094 non-null   int64         \n",
      "dtypes: datetime64[ns](1), int64(1), object(4)\n",
      "memory usage: 51.4+ KB\n"
     ]
    },
    {
     "name": "stderr",
     "output_type": "stream",
     "text": [
      "C:\\Users\\juanz\\AppData\\Local\\Temp\\ipykernel_11168\\1130716863.py:1: UserWarning: Could not infer format, so each element will be parsed individually, falling back to `dateutil`. To ensure parsing is consistent and as-expected, please specify a format.\n",
      "  df[\"Date\"] = pd.to_datetime(df[\"Date\"])\n"
     ]
    }
   ],
   "source": [
    "df[\"Date\"] = pd.to_datetime(df[\"Date\"])\n",
    "df.info()"
   ]
  },
  {
   "cell_type": "code",
   "execution_count": 13,
   "id": "4a021dd4",
   "metadata": {},
   "outputs": [],
   "source": [
    "def removeDollarSign(money):\n",
    "    return money.replace(\"$\", \"\").replace(\",\",\"\")\n",
    "\n",
    "df[\"Amount\"] = pd.to_numeric(df[\"Amount\"].apply(removeDollarSign))"
   ]
  },
  {
   "cell_type": "code",
   "execution_count": 14,
   "id": "ce808998",
   "metadata": {},
   "outputs": [
    {
     "name": "stdout",
     "output_type": "stream",
     "text": [
      "<class 'pandas.core.frame.DataFrame'>\n",
      "RangeIndex: 1094 entries, 0 to 1093\n",
      "Data columns (total 6 columns):\n",
      " #   Column         Non-Null Count  Dtype         \n",
      "---  ------         --------------  -----         \n",
      " 0   Sales Person   1094 non-null   object        \n",
      " 1   Country        1094 non-null   object        \n",
      " 2   Product        1094 non-null   object        \n",
      " 3   Date           1094 non-null   datetime64[ns]\n",
      " 4   Amount         1094 non-null   int64         \n",
      " 5   Boxes Shipped  1094 non-null   int64         \n",
      "dtypes: datetime64[ns](1), int64(2), object(3)\n",
      "memory usage: 51.4+ KB\n"
     ]
    }
   ],
   "source": [
    "df.info()\n"
   ]
  },
  {
   "cell_type": "markdown",
   "id": "113e7128",
   "metadata": {},
   "source": [
    "# Exploratory Data Analysis (EDA)"
   ]
  },
  {
   "cell_type": "markdown",
   "id": "4132f147",
   "metadata": {},
   "source": [
    "### a. The general information about the entire data set Chocolate_Sales.csv "
   ]
  },
  {
   "cell_type": "markdown",
   "id": "ae920637",
   "metadata": {},
   "source": [
    "### b. List the chocolates sold out to India. "
   ]
  },
  {
   "cell_type": "code",
   "execution_count": 15,
   "id": "b3c1b10a",
   "metadata": {},
   "outputs": [
    {
     "data": {
      "text/plain": [
       "array(['85% Dark Bars', 'Peanut Butter Cubes', 'Smooth Sliky Salty',\n",
       "       'Fruit & Nut Bars', 'Manuka Honey Choco', 'Spicy Special Slims',\n",
       "       'Eclairs', 'Almond Choco', '99% Dark & Pure', '50% Dark Bites',\n",
       "       'Organic Choco Syrup', 'Raspberry Choco', 'Orange Choco',\n",
       "       'Caramel Stuffed Bars', \"Baker's Choco Chips\", 'After Nines',\n",
       "       'Drinking Coco', '70% Dark Bites', 'Milk Bars', 'Mint Chip Choco',\n",
       "       'Choco Coated Almonds', 'White Choc'], dtype=object)"
      ]
     },
     "execution_count": 15,
     "metadata": {},
     "output_type": "execute_result"
    }
   ],
   "source": [
    "# Find all the name of the chocolates that sold out to India\n",
    "products = df.loc[df[\"Country\"] == \"India\"][\"Product\"]\n",
    "\n",
    "# Find the name of chocolates\n",
    "products.unique()"
   ]
  },
  {
   "cell_type": "markdown",
   "id": "e5dfedc1",
   "metadata": {},
   "source": [
    "### c. Identify the salesperson with the highest sales by ranking them based on sales amount. "
   ]
  },
  {
   "cell_type": "code",
   "execution_count": 16,
   "id": "3c70a273",
   "metadata": {},
   "outputs": [
    {
     "data": {
      "text/plain": [
       "Sales Person\n",
       "Ches Bonnell           320901\n",
       "Oby Sorrel             316645\n",
       "Madelene Upcott        316099\n",
       "Brien Boise            312816\n",
       "Kelci Walkden          311710\n",
       "Van Tuxwell            303149\n",
       "Dennison Crosswaite    291669\n",
       "Beverie Moffet         278922\n",
       "Kaine Padly            266490\n",
       "Marney O'Breen         259742\n",
       "Barr Faughny           258713\n",
       "Roddy Speechley        251062\n",
       "Gunar Cockshoot        238483\n",
       "Gigi Bohling           232666\n",
       "Karlen McCaffrey       223895\n",
       "Jehu Rudeforth         220976\n",
       "Jan Morforth           219667\n",
       "Curtice Advani         216461\n",
       "Rafaelita Blaksland    210245\n",
       "Husein Augar           205212\n",
       "Andria Kimpton         201747\n",
       "Mallorie Waber         200592\n",
       "Camilla Castle         196616\n",
       "Dotty Strutley         190624\n",
       "Wilone O'Kielt         138523\n",
       "Name: Amount, dtype: int64"
      ]
     },
     "execution_count": 16,
     "metadata": {},
     "output_type": "execute_result"
    }
   ],
   "source": [
    "df.groupby([\"Sales Person\"])[\"Amount\"].sum().sort_values(ascending=False)"
   ]
  },
  {
   "cell_type": "markdown",
   "id": "13a10105",
   "metadata": {},
   "source": [
    "Ches Bonnell "
   ]
  },
  {
   "cell_type": "markdown",
   "id": "1a0106af",
   "metadata": {},
   "source": [
    "### d. Find all sales region or store location where the transaction took place. \n"
   ]
  },
  {
   "cell_type": "code",
   "execution_count": 17,
   "id": "81c66dce",
   "metadata": {},
   "outputs": [
    {
     "data": {
      "text/plain": [
       "array(['UK', 'India', 'Australia', 'New Zealand', 'USA', 'Canada'],\n",
       "      dtype=object)"
      ]
     },
     "execution_count": 17,
     "metadata": {},
     "output_type": "execute_result"
    }
   ],
   "source": [
    "df[\"Country\"].unique()"
   ]
  },
  {
   "cell_type": "markdown",
   "id": "71eaef83",
   "metadata": {},
   "source": [
    "Smooth Sliky Salty,50% Dark Bites and White Choc"
   ]
  },
  {
   "cell_type": "markdown",
   "id": "fde59f15",
   "metadata": {},
   "source": [
    "### Which chocolate products generate the highest revenue?"
   ]
  },
  {
   "cell_type": "code",
   "execution_count": 35,
   "id": "89ce6cc1",
   "metadata": {},
   "outputs": [
    {
     "data": {
      "text/plain": [
       "Product\n",
       "Smooth Sliky Salty    349692\n",
       "50% Dark Bites        341712\n",
       "White Choc            329147\n",
       "Name: Amount, dtype: int64"
      ]
     },
     "execution_count": 35,
     "metadata": {},
     "output_type": "execute_result"
    }
   ],
   "source": [
    "revenue = df[[\"Product\", \"Amount\"]]\n",
    "maxRev = revenue.groupby(\"Product\")[\"Amount\"].sum().sort_values(ascending=False)\n",
    "maxRev.head(3)"
   ]
  },
  {
   "cell_type": "markdown",
   "id": "e5990317",
   "metadata": {},
   "source": [
    "Australia Canada India New Zealand UK USA"
   ]
  },
  {
   "cell_type": "markdown",
   "id": "7ae24af0",
   "metadata": {},
   "source": [
    "### Which countries contribute most to the total sales?"
   ]
  },
  {
   "cell_type": "code",
   "execution_count": 40,
   "id": "6b2a5875",
   "metadata": {},
   "outputs": [
    {
     "data": {
      "text/plain": [
       "Country\n",
       "Australia    1137367\n",
       "UK           1051792\n",
       "India        1045800\n",
       "Name: Amount, dtype: int64"
      ]
     },
     "execution_count": 40,
     "metadata": {},
     "output_type": "execute_result"
    }
   ],
   "source": [
    "df.head()\n",
    "countrySales = df.groupby(\"Country\")[\"Amount\"].sum().sort_values(ascending=False)\n",
    "countrySales.head(3)"
   ]
  },
  {
   "cell_type": "markdown",
   "id": "9f3f7588",
   "metadata": {},
   "source": [
    "Australia, UK and India"
   ]
  },
  {
   "cell_type": "code",
   "execution_count": 20,
   "id": "516d24fc",
   "metadata": {},
   "outputs": [
    {
     "data": {
      "text/html": [
       "<div>\n",
       "<style scoped>\n",
       "    .dataframe tbody tr th:only-of-type {\n",
       "        vertical-align: middle;\n",
       "    }\n",
       "\n",
       "    .dataframe tbody tr th {\n",
       "        vertical-align: top;\n",
       "    }\n",
       "\n",
       "    .dataframe thead th {\n",
       "        text-align: right;\n",
       "    }\n",
       "</style>\n",
       "<table border=\"1\" class=\"dataframe\">\n",
       "  <thead>\n",
       "    <tr style=\"text-align: right;\">\n",
       "      <th></th>\n",
       "      <th>Amount</th>\n",
       "      <th>Boxes Shipped</th>\n",
       "    </tr>\n",
       "  </thead>\n",
       "  <tbody>\n",
       "    <tr>\n",
       "      <th>Amount</th>\n",
       "      <td>1.000000</td>\n",
       "      <td>-0.018827</td>\n",
       "    </tr>\n",
       "    <tr>\n",
       "      <th>Boxes Shipped</th>\n",
       "      <td>-0.018827</td>\n",
       "      <td>1.000000</td>\n",
       "    </tr>\n",
       "  </tbody>\n",
       "</table>\n",
       "</div>"
      ],
      "text/plain": [
       "                 Amount  Boxes Shipped\n",
       "Amount         1.000000      -0.018827\n",
       "Boxes Shipped -0.018827       1.000000"
      ]
     },
     "execution_count": 20,
     "metadata": {},
     "output_type": "execute_result"
    }
   ],
   "source": [
    "\n",
    "amountBoxShipped = df[[\"Amount\", \"Boxes Shipped\"]]\n",
    "amountBoxShipped.corr()"
   ]
  },
  {
   "cell_type": "markdown",
   "id": "d3897d9b",
   "metadata": {},
   "source": [
    "### Do sales vary significantly across different months?"
   ]
  },
  {
   "cell_type": "code",
   "execution_count": 21,
   "id": "b66a5da8",
   "metadata": {},
   "outputs": [],
   "source": [
    "df[\"Month\"] = df[\"Date\"].dt.month"
   ]
  },
  {
   "cell_type": "code",
   "execution_count": 22,
   "id": "f580474c",
   "metadata": {},
   "outputs": [
    {
     "data": {
      "text/html": [
       "<div>\n",
       "<style scoped>\n",
       "    .dataframe tbody tr th:only-of-type {\n",
       "        vertical-align: middle;\n",
       "    }\n",
       "\n",
       "    .dataframe tbody tr th {\n",
       "        vertical-align: top;\n",
       "    }\n",
       "\n",
       "    .dataframe thead th {\n",
       "        text-align: right;\n",
       "    }\n",
       "</style>\n",
       "<table border=\"1\" class=\"dataframe\">\n",
       "  <thead>\n",
       "    <tr style=\"text-align: right;\">\n",
       "      <th></th>\n",
       "      <th>Sales Person</th>\n",
       "      <th>Country</th>\n",
       "      <th>Product</th>\n",
       "      <th>Date</th>\n",
       "      <th>Amount</th>\n",
       "      <th>Boxes Shipped</th>\n",
       "      <th>Month</th>\n",
       "    </tr>\n",
       "  </thead>\n",
       "  <tbody>\n",
       "    <tr>\n",
       "      <th>0</th>\n",
       "      <td>Jehu Rudeforth</td>\n",
       "      <td>UK</td>\n",
       "      <td>Mint Chip Choco</td>\n",
       "      <td>2022-01-04</td>\n",
       "      <td>5320</td>\n",
       "      <td>180</td>\n",
       "      <td>1</td>\n",
       "    </tr>\n",
       "    <tr>\n",
       "      <th>1</th>\n",
       "      <td>Van Tuxwell</td>\n",
       "      <td>India</td>\n",
       "      <td>85% Dark Bars</td>\n",
       "      <td>2022-08-01</td>\n",
       "      <td>7896</td>\n",
       "      <td>94</td>\n",
       "      <td>8</td>\n",
       "    </tr>\n",
       "    <tr>\n",
       "      <th>2</th>\n",
       "      <td>Gigi Bohling</td>\n",
       "      <td>India</td>\n",
       "      <td>Peanut Butter Cubes</td>\n",
       "      <td>2022-07-07</td>\n",
       "      <td>4501</td>\n",
       "      <td>91</td>\n",
       "      <td>7</td>\n",
       "    </tr>\n",
       "    <tr>\n",
       "      <th>3</th>\n",
       "      <td>Jan Morforth</td>\n",
       "      <td>Australia</td>\n",
       "      <td>Peanut Butter Cubes</td>\n",
       "      <td>2022-04-27</td>\n",
       "      <td>12726</td>\n",
       "      <td>342</td>\n",
       "      <td>4</td>\n",
       "    </tr>\n",
       "    <tr>\n",
       "      <th>4</th>\n",
       "      <td>Jehu Rudeforth</td>\n",
       "      <td>UK</td>\n",
       "      <td>Peanut Butter Cubes</td>\n",
       "      <td>2022-02-24</td>\n",
       "      <td>13685</td>\n",
       "      <td>184</td>\n",
       "      <td>2</td>\n",
       "    </tr>\n",
       "  </tbody>\n",
       "</table>\n",
       "</div>"
      ],
      "text/plain": [
       "     Sales Person    Country              Product       Date  Amount  \\\n",
       "0  Jehu Rudeforth         UK      Mint Chip Choco 2022-01-04    5320   \n",
       "1     Van Tuxwell      India        85% Dark Bars 2022-08-01    7896   \n",
       "2    Gigi Bohling      India  Peanut Butter Cubes 2022-07-07    4501   \n",
       "3    Jan Morforth  Australia  Peanut Butter Cubes 2022-04-27   12726   \n",
       "4  Jehu Rudeforth         UK  Peanut Butter Cubes 2022-02-24   13685   \n",
       "\n",
       "   Boxes Shipped  Month  \n",
       "0            180      1  \n",
       "1             94      8  \n",
       "2             91      7  \n",
       "3            342      4  \n",
       "4            184      2  "
      ]
     },
     "execution_count": 22,
     "metadata": {},
     "output_type": "execute_result"
    }
   ],
   "source": [
    "df.head()"
   ]
  },
  {
   "cell_type": "code",
   "execution_count": 23,
   "id": "53005c65",
   "metadata": {},
   "outputs": [
    {
     "data": {
      "text/plain": [
       "Month\n",
       "1    896105\n",
       "2    699377\n",
       "3    749483\n",
       "4    674051\n",
       "5    752892\n",
       "6    865144\n",
       "7    803425\n",
       "8    743148\n",
       "Name: Amount, dtype: int64"
      ]
     },
     "execution_count": 23,
     "metadata": {},
     "output_type": "execute_result"
    }
   ],
   "source": [
    "amountAccordingMonth = df.groupby([\"Month\"])[\"Amount\"].sum() \n",
    "amountAccordingMonth"
   ]
  },
  {
   "cell_type": "code",
   "execution_count": 43,
   "id": "09a8fca6",
   "metadata": {},
   "outputs": [
    {
     "data": {
      "image/png": "[encoded data removed]",
      "text/plain": [
       "<Figure size 640x480 with 1 Axes>"
      ]
     },
     "metadata": {},
     "output_type": "display_data"
    }
   ],
   "source": [
    "plt.bar(x=df[\"Month\"].unique(), height=amountAccordingMonth)\n",
    "plt.show()\n"
   ]
  },
  {
   "cell_type": "markdown",
   "id": "a7a04b08",
   "metadata": {},
   "source": [
    "There is no big difference between each month. Therefore, sales does not vary significantly across different month."
   ]
  }
 ],
 "metadata": {
  "kernelspec": {
   "display_name": "base",
   "language": "python",
   "name": "python3"
  },
  "language_info": {
   "codemirror_mode": {
    "name": "ipython",
    "version": 3
   },
   "file_extension": ".py",
   "mimetype": "text/x-python",
   "name": "python",
   "nbconvert_exporter": "python",
   "pygments_lexer": "ipython3",
   "version": "3.12.7"
  }
 },
 "nbformat": 4,
 "nbformat_minor": 5
}
