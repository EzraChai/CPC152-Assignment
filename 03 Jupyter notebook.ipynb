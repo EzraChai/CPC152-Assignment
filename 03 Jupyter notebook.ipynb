{
 "cells": [
  {
   "cell_type": "markdown",
   "id": "93b2906a-9bfd-4173-a00c-e5772683784d",
   "metadata": {},
   "source": [
    "# Assignment"
   ]
  },
  {
   "cell_type": "code",
   "execution_count": 2,
   "id": "0021070a-1330-4056-9b54-9fb119bfff69",
   "metadata": {},
   "outputs": [
    {
     "data": {
      "text/html": [
       "    <style>\n",
       "        .bk-notebook-logo {\n",
       "            display: block;\n",
       "            width: 20px;\n",
       "            height: 20px;\n",
       "            background-image: url(data:image/png;base64,iVBORw0KGgoAAAANSUhEUgAAABQAAAAUCAYAAACNiR0NAAAABHNCSVQICAgIfAhkiAAAAAlwSFlzAAALEgAACxIB0t1+/AAAABx0RVh0U29mdHdhcmUAQWRvYmUgRmlyZXdvcmtzIENTNui8sowAAAOkSURBVDiNjZRtaJVlGMd/1/08zzln5zjP1LWcU9N0NkN8m2CYjpgQYQXqSs0I84OLIC0hkEKoPtiH3gmKoiJDU7QpLgoLjLIQCpEsNJ1vqUOdO7ppbuec5+V+rj4ctwzd8IIbbi6u+8f1539dt3A78eXC7QizUF7gyV1fD1Yqg4JWz84yffhm0qkFqBogB9rM8tZdtwVsPUhWhGcFJngGeWrPzHm5oaMmkfEg1usvLFyc8jLRqDOMru7AyC8saQr7GG7f5fvDeH7Ej8CM66nIF+8yngt6HWaKh7k49Soy9nXurCi1o3qUbS3zWfrYeQDTB/Qj6kX6Ybhw4B+bOYoLKCC9H3Nu/leUTZ1JdRWkkn2ldcCamzrcf47KKXdAJllSlxAOkRgyHsGC/zRday5Qld9DyoM4/q/rUoy/CXh3jzOu3bHUVZeU+DEn8FInkPBFlu3+nW3Nw0mk6vCDiWg8CeJaxEwuHS3+z5RgY+YBR6V1Z1nxSOfoaPa4LASWxxdNp+VWTk7+4vzaou8v8PN+xo+KY2xsw6une2frhw05CTYOmQvsEhjhWjn0bmXPjpE1+kplmmkP3suftwTubK9Vq22qKmrBhpY4jvd5afdRA3wGjFAgcnTK2s4hY0/GPNIb0nErGMCRxWOOX64Z8RAC4oCXdklmEvcL8o0BfkNK4lUg9HTl+oPlQxdNo3Mg4Nv175e/1LDGzZen30MEjRUtmXSfiTVu1kK8W4txyV6BMKlbgk3lMwYCiusNy9fVfvvwMxv8Ynl6vxoByANLTWplvuj/nF9m2+PDtt1eiHPBr1oIfhCChQMBw6Aw0UulqTKZdfVvfG7VcfIqLG9bcldL/+pdWTLxLUy8Qq38heUIjh4XlzZxzQm19lLFlr8vdQ97rjZVOLf8nclzckbcD4wxXMidpX30sFd37Fv/GtwwhzhxGVAprjbg0gCAEeIgwCZyTV2Z1REEW8O4py0wsjeloKoMr6iCY6dP92H6Vw/oTyICIthibxjm/DfN9lVz8IqtqKYLUXfoKVMVQVVJOElGjrnnUt9T9wbgp8AyYKaGlqingHZU/uG2NTZSVqwHQTWkx9hxjkpWDaCg6Ckj5qebgBVbT3V3NNXMSiWSDdGV3hrtzla7J+duwPOToIg42ChPQOQjspnSlp1V+Gjdged7+8UN5CRAV7a5EdFNwCjEaBR27b3W890TE7g24NAP/mMDXRWrGoFPQI9ls/MWO2dWFAar/xcOIImbbpA3zgAAAABJRU5ErkJggg==);\n",
       "        }\n",
       "    </style>\n",
       "    <div>\n",
       "        <a href=\"https://bokeh.org\" target=\"_blank\" class=\"bk-notebook-logo\"></a>\n",
       "        <span id=\"fc294943-8284-43b8-998d-a4acb58aa239\">Loading BokehJS ...</span>\n",
       "    </div>\n"
      ]
     },
     "metadata": {},
     "output_type": "display_data"
    },
    {
     "data": {
      "application/javascript": "'use strict';\n(function(root) {\n  function now() {\n    return new Date();\n  }\n\n  const force = true;\n\n  if (typeof root._bokeh_onload_callbacks === \"undefined\" || force === true) {\n    root._bokeh_onload_callbacks = [];\n    root._bokeh_is_loading = undefined;\n  }\n\nconst JS_MIME_TYPE = 'application/javascript';\n  const HTML_MIME_TYPE = 'text/html';\n  const EXEC_MIME_TYPE = 'application/vnd.bokehjs_exec.v0+json';\n  const CLASS_NAME = 'output_bokeh rendered_html';\n\n  /**\n   * Render data to the DOM node\n   */\n  function render(props, node) {\n    const script = document.createElement(\"script\");\n    node.appendChild(script);\n  }\n\n  /**\n   * Handle when an output is cleared or removed\n   */\n  function handleClearOutput(event, handle) {\n    function drop(id) {\n      const view = Bokeh.index.get_by_id(id)\n      if (view != null) {\n        view.model.document.clear()\n        Bokeh.index.delete(view)\n      }\n    }\n\n    const cell = handle.cell;\n\n    const id = cell.output_area._bokeh_element_id;\n    const server_id = cell.output_area._bokeh_server_id;\n\n    // Clean up Bokeh references\n    if (id != null) {\n      drop(id)\n    }\n\n    if (server_id !== undefined) {\n      // Clean up Bokeh references\n      const cmd_clean = \"from bokeh.io.state import curstate; print(curstate().uuid_to_server['\" + server_id + \"'].get_sessions()[0].document.roots[0]._id)\";\n      cell.notebook.kernel.execute(cmd_clean, {\n        iopub: {\n          output: function(msg) {\n            const id = msg.content.text.trim()\n            drop(id)\n          }\n        }\n      });\n      // Destroy server and session\n      const cmd_destroy = \"import bokeh.io.notebook as ion; ion.destroy_server('\" + server_id + \"')\";\n      cell.notebook.kernel.execute(cmd_destroy);\n    }\n  }\n\n  /**\n   * Handle when a new output is added\n   */\n  function handleAddOutput(event, handle) {\n    const output_area = handle.output_area;\n    const output = handle.output;\n\n    // limit handleAddOutput to display_data with EXEC_MIME_TYPE content only\n    if ((output.output_type != \"display_data\") || (!Object.prototype.hasOwnProperty.call(output.data, EXEC_MIME_TYPE))) {\n      return\n    }\n\n    const toinsert = output_area.element.find(\".\" + CLASS_NAME.split(' ')[0]);\n\n    if (output.metadata[EXEC_MIME_TYPE][\"id\"] !== undefined) {\n      toinsert[toinsert.length - 1].firstChild.textContent = output.data[JS_MIME_TYPE];\n      // store reference to embed id on output_area\n      output_area._bokeh_element_id = output.metadata[EXEC_MIME_TYPE][\"id\"];\n    }\n    if (output.metadata[EXEC_MIME_TYPE][\"server_id\"] !== undefined) {\n      const bk_div = document.createElement(\"div\");\n      bk_div.innerHTML = output.data[HTML_MIME_TYPE];\n      const script_attrs = bk_div.children[0].attributes;\n      for (let i = 0; i < script_attrs.length; i++) {\n        toinsert[toinsert.length - 1].firstChild.setAttribute(script_attrs[i].name, script_attrs[i].value);\n        toinsert[toinsert.length - 1].firstChild.textContent = bk_div.children[0].textContent\n      }\n      // store reference to server id on output_area\n      output_area._bokeh_server_id = output.metadata[EXEC_MIME_TYPE][\"server_id\"];\n    }\n  }\n\n  function register_renderer(events, OutputArea) {\n\n    function append_mime(data, metadata, element) {\n      // create a DOM node to render to\n      const toinsert = this.create_output_subarea(\n        metadata,\n        CLASS_NAME,\n        EXEC_MIME_TYPE\n      );\n      this.keyboard_manager.register_events(toinsert);\n      // Render to node\n      const props = {data: data, metadata: metadata[EXEC_MIME_TYPE]};\n      render(props, toinsert[toinsert.length - 1]);\n      element.append(toinsert);\n      return toinsert\n    }\n\n    /* Handle when an output is cleared or removed */\n    events.on('clear_output.CodeCell', handleClearOutput);\n    events.on('delete.Cell', handleClearOutput);\n\n    /* Handle when a new output is added */\n    events.on('output_added.OutputArea', handleAddOutput);\n\n    /**\n     * Register the mime type and append_mime function with output_area\n     */\n    OutputArea.prototype.register_mime_type(EXEC_MIME_TYPE, append_mime, {\n      /* Is output safe? */\n      safe: true,\n      /* Index of renderer in `output_area.display_order` */\n      index: 0\n    });\n  }\n\n  // register the mime type if in Jupyter Notebook environment and previously unregistered\n  if (root.Jupyter !== undefined) {\n    const events = require('base/js/events');\n    const OutputArea = require('notebook/js/outputarea').OutputArea;\n\n    if (OutputArea.prototype.mime_types().indexOf(EXEC_MIME_TYPE) == -1) {\n      register_renderer(events, OutputArea);\n    }\n  }\n  if (typeof (root._bokeh_timeout) === \"undefined\" || force === true) {\n    root._bokeh_timeout = Date.now() + 5000;\n    root._bokeh_failed_load = false;\n  }\n\n  const NB_LOAD_WARNING = {'data': {'text/html':\n     \"<div style='background-color: #fdd'>\\n\"+\n     \"<p>\\n\"+\n     \"BokehJS does not appear to have successfully loaded. If loading BokehJS from CDN, this \\n\"+\n     \"may be due to a slow or bad network connection. Possible fixes:\\n\"+\n     \"</p>\\n\"+\n     \"<ul>\\n\"+\n     \"<li>re-rerun `output_notebook()` to attempt to load from CDN again, or</li>\\n\"+\n     \"<li>use INLINE resources instead, as so:</li>\\n\"+\n     \"</ul>\\n\"+\n     \"<code>\\n\"+\n     \"from bokeh.resources import INLINE\\n\"+\n     \"output_notebook(resources=INLINE)\\n\"+\n     \"</code>\\n\"+\n     \"</div>\"}};\n\n  function display_loaded(error = null) {\n    const el = document.getElementById(\"fc294943-8284-43b8-998d-a4acb58aa239\");\n    if (el != null) {\n      const html = (() => {\n        if (typeof root.Bokeh === \"undefined\") {\n          if (error == null) {\n            return \"BokehJS is loading ...\";\n          } else {\n            return \"BokehJS failed to load.\";\n          }\n        } else {\n          const prefix = `BokehJS ${root.Bokeh.version}`;\n          if (error == null) {\n            return `${prefix} successfully loaded.`;\n          } else {\n            return `${prefix} <b>encountered errors</b> while loading and may not function as expected.`;\n          }\n        }\n      })();\n      el.innerHTML = html;\n\n      if (error != null) {\n        const wrapper = document.createElement(\"div\");\n        wrapper.style.overflow = \"auto\";\n        wrapper.style.height = \"5em\";\n        wrapper.style.resize = \"vertical\";\n        const content = document.createElement(\"div\");\n        content.style.fontFamily = \"monospace\";\n        content.style.whiteSpace = \"pre-wrap\";\n        content.style.backgroundColor = \"rgb(255, 221, 221)\";\n        content.textContent = error.stack ?? error.toString();\n        wrapper.append(content);\n        el.append(wrapper);\n      }\n    } else if (Date.now() < root._bokeh_timeout) {\n      setTimeout(() => display_loaded(error), 100);\n    }\n  }\n\n  function run_callbacks() {\n    try {\n      root._bokeh_onload_callbacks.forEach(function(callback) {\n        if (callback != null)\n          callback();\n      });\n    } finally {\n      delete root._bokeh_onload_callbacks\n    }\n    console.debug(\"Bokeh: all callbacks have finished\");\n  }\n\n  function load_libs(css_urls, js_urls, callback) {\n    if (css_urls == null) css_urls = [];\n    if (js_urls == null) js_urls = [];\n\n    root._bokeh_onload_callbacks.push(callback);\n    if (root._bokeh_is_loading > 0) {\n      console.debug(\"Bokeh: BokehJS is being loaded, scheduling callback at\", now());\n      return null;\n    }\n    if (js_urls == null || js_urls.length === 0) {\n      run_callbacks();\n      return null;\n    }\n    console.debug(\"Bokeh: BokehJS not loaded, scheduling load and callback at\", now());\n    root._bokeh_is_loading = css_urls.length + js_urls.length;\n\n    function on_load() {\n      root._bokeh_is_loading--;\n      if (root._bokeh_is_loading === 0) {\n        console.debug(\"Bokeh: all BokehJS libraries/stylesheets loaded\");\n        run_callbacks()\n      }\n    }\n\n    function on_error(url) {\n      console.error(\"failed to load \" + url);\n    }\n\n    for (let i = 0; i < css_urls.length; i++) {\n      const url = css_urls[i];\n      const element = document.createElement(\"link\");\n      element.onload = on_load;\n      element.onerror = on_error.bind(null, url);\n      element.rel = \"stylesheet\";\n      element.type = \"text/css\";\n      element.href = url;\n      console.debug(\"Bokeh: injecting link tag for BokehJS stylesheet: \", url);\n      document.body.appendChild(element);\n    }\n\n    for (let i = 0; i < js_urls.length; i++) {\n      const url = js_urls[i];\n      const element = document.createElement('script');\n      element.onload = on_load;\n      element.onerror = on_error.bind(null, url);\n      element.async = false;\n      element.src = url;\n      console.debug(\"Bokeh: injecting script tag for BokehJS library: \", url);\n      document.head.appendChild(element);\n    }\n  };\n\n  function inject_raw_css(css) {\n    const element = document.createElement(\"style\");\n    element.appendChild(document.createTextNode(css));\n    document.body.appendChild(element);\n  }\n\n  const js_urls = [\"https://cdn.bokeh.org/bokeh/release/bokeh-3.6.0.min.js\", \"https://cdn.bokeh.org/bokeh/release/bokeh-gl-3.6.0.min.js\", \"https://cdn.bokeh.org/bokeh/release/bokeh-widgets-3.6.0.min.js\", \"https://cdn.bokeh.org/bokeh/release/bokeh-tables-3.6.0.min.js\", \"https://cdn.bokeh.org/bokeh/release/bokeh-mathjax-3.6.0.min.js\"];\n  const css_urls = [];\n\n  const inline_js = [    function(Bokeh) {\n      Bokeh.set_log_level(\"info\");\n    },\nfunction(Bokeh) {\n    }\n  ];\n\n  function run_inline_js() {\n    if (root.Bokeh !== undefined || force === true) {\n      try {\n            for (let i = 0; i < inline_js.length; i++) {\n      inline_js[i].call(root, root.Bokeh);\n    }\n\n      } catch (error) {display_loaded(error);throw error;\n      }if (force === true) {\n        display_loaded();\n      }} else if (Date.now() < root._bokeh_timeout) {\n      setTimeout(run_inline_js, 100);\n    } else if (!root._bokeh_failed_load) {\n      console.log(\"Bokeh: BokehJS failed to load within specified timeout.\");\n      root._bokeh_failed_load = true;\n    } else if (force !== true) {\n      const cell = $(document.getElementById(\"fc294943-8284-43b8-998d-a4acb58aa239\")).parents('.cell').data().cell;\n      cell.output_area.append_execute_result(NB_LOAD_WARNING)\n    }\n  }\n\n  if (root._bokeh_is_loading === 0) {\n    console.debug(\"Bokeh: BokehJS loaded, going straight to plotting\");\n    run_inline_js();\n  } else {\n    load_libs(css_urls, js_urls, function() {\n      console.debug(\"Bokeh: BokehJS plotting callback run at\", now());\n      run_inline_js();\n    });\n  }\n}(window));",
      "application/vnd.bokehjs_load.v0+json": ""
     },
     "metadata": {},
     "output_type": "display_data"
    }
   ],
   "source": [
    "# import libraries\n",
    "import pandas as pd\n",
    "import matplotlib.pyplot as plt\n",
    "from bokeh.plotting import figure, show,output_notebook\n",
    "\n",
    "output_notebook()\n",
    "\n",
    "# read \"Chocolate_Sales.csv\"\n",
    "df = pd.read_csv(\"Chocolate_Sales.csv\")"
   ]
  },
  {
   "cell_type": "markdown",
   "id": "73f726f2",
   "metadata": {},
   "source": [
    "# Data Cleaning & Data Processing"
   ]
  },
  {
   "cell_type": "code",
   "execution_count": 3,
   "id": "d1be5389",
   "metadata": {},
   "outputs": [
    {
     "data": {
      "text/plain": [
       "Sales Person     0\n",
       "Country          0\n",
       "Product          0\n",
       "Date             0\n",
       "Amount           0\n",
       "Boxes Shipped    0\n",
       "dtype: int64"
      ]
     },
     "execution_count": 3,
     "metadata": {},
     "output_type": "execute_result"
    }
   ],
   "source": [
    "# find the sum of the null row \n",
    "df.isnull().sum()\n",
    "# since it is zero for each column, therefore there is no empty data"
   ]
  },
  {
   "cell_type": "code",
   "execution_count": 4,
   "id": "fd0c4fa4",
   "metadata": {},
   "outputs": [
    {
     "data": {
      "text/plain": [
       "0"
      ]
     },
     "execution_count": 4,
     "metadata": {},
     "output_type": "execute_result"
    }
   ],
   "source": [
    "# find the sum of the duplicated row\n",
    "df.duplicated().sum()\n",
    "#Since there is no duplicate data, therefore there is no need to remove duplicate"
   ]
  },
  {
   "cell_type": "code",
   "execution_count": 5,
   "id": "79f2eaa2",
   "metadata": {},
   "outputs": [],
   "source": [
    "# Format the date and change its type into datetime\n",
    "df[\"Date\"] = pd.to_datetime(df[\"Date\"], format='%d-%b-%y')"
   ]
  },
  {
   "cell_type": "code",
   "execution_count": 6,
   "id": "4a021dd4",
   "metadata": {},
   "outputs": [],
   "source": [
    "# remove the dollar sign infront of the amount and the ',' in the dollar sign\n",
    "def removeDollarSign(money):\n",
    "    return money.replace(\"$\", \"\").replace(\",\",\"\")\n",
    "\n",
    "# Change its type into numeric after removing the dollar sign\n",
    "df[\"Amount\"] = pd.to_numeric(df[\"Amount\"].apply(removeDollarSign))"
   ]
  },
  {
   "cell_type": "code",
   "execution_count": 7,
   "id": "84885b61",
   "metadata": {},
   "outputs": [
    {
     "name": "stdout",
     "output_type": "stream",
     "text": [
      "[Amount] that is negative value:  0\n",
      "[Boxes Shipped] that is negative value:  0\n"
     ]
    }
   ],
   "source": [
    "# Check whether there is amount that is negative value\n",
    "print(\"[Amount] that is negative value: \",df[df[\"Amount\"] < 0][\"Amount\"].count())\n",
    "#There is no Amount that is negative number\n",
    "\n",
    "# Check whether there is boxes shipped that is negative value\n",
    "print(\"[Boxes Shipped] that is negative value: \",df[df[\"Boxes Shipped\"] < 0][\"Boxes Shipped\"].count())\n",
    "#There is no Boxes Shipped that is negative number"
   ]
  },
  {
   "cell_type": "code",
   "execution_count": 8,
   "id": "ce808998",
   "metadata": {},
   "outputs": [
    {
     "data": {
      "text/html": [
       "<div>\n",
       "<style scoped>\n",
       "    .dataframe tbody tr th:only-of-type {\n",
       "        vertical-align: middle;\n",
       "    }\n",
       "\n",
       "    .dataframe tbody tr th {\n",
       "        vertical-align: top;\n",
       "    }\n",
       "\n",
       "    .dataframe thead th {\n",
       "        text-align: right;\n",
       "    }\n",
       "</style>\n",
       "<table border=\"1\" class=\"dataframe\">\n",
       "  <thead>\n",
       "    <tr style=\"text-align: right;\">\n",
       "      <th></th>\n",
       "      <th>Sales Person</th>\n",
       "      <th>Country</th>\n",
       "      <th>Product</th>\n",
       "      <th>Date</th>\n",
       "      <th>Amount</th>\n",
       "      <th>Boxes Shipped</th>\n",
       "      <th>Month</th>\n",
       "    </tr>\n",
       "  </thead>\n",
       "  <tbody>\n",
       "    <tr>\n",
       "      <th>0</th>\n",
       "      <td>Jehu Rudeforth</td>\n",
       "      <td>UK</td>\n",
       "      <td>Mint Chip Choco</td>\n",
       "      <td>2022-01-04</td>\n",
       "      <td>5320</td>\n",
       "      <td>180</td>\n",
       "      <td>1</td>\n",
       "    </tr>\n",
       "    <tr>\n",
       "      <th>1</th>\n",
       "      <td>Van Tuxwell</td>\n",
       "      <td>India</td>\n",
       "      <td>85% Dark Bars</td>\n",
       "      <td>2022-08-01</td>\n",
       "      <td>7896</td>\n",
       "      <td>94</td>\n",
       "      <td>8</td>\n",
       "    </tr>\n",
       "    <tr>\n",
       "      <th>2</th>\n",
       "      <td>Gigi Bohling</td>\n",
       "      <td>India</td>\n",
       "      <td>Peanut Butter Cubes</td>\n",
       "      <td>2022-07-07</td>\n",
       "      <td>4501</td>\n",
       "      <td>91</td>\n",
       "      <td>7</td>\n",
       "    </tr>\n",
       "    <tr>\n",
       "      <th>3</th>\n",
       "      <td>Jan Morforth</td>\n",
       "      <td>Australia</td>\n",
       "      <td>Peanut Butter Cubes</td>\n",
       "      <td>2022-04-27</td>\n",
       "      <td>12726</td>\n",
       "      <td>342</td>\n",
       "      <td>4</td>\n",
       "    </tr>\n",
       "    <tr>\n",
       "      <th>4</th>\n",
       "      <td>Jehu Rudeforth</td>\n",
       "      <td>UK</td>\n",
       "      <td>Peanut Butter Cubes</td>\n",
       "      <td>2022-02-24</td>\n",
       "      <td>13685</td>\n",
       "      <td>184</td>\n",
       "      <td>2</td>\n",
       "    </tr>\n",
       "  </tbody>\n",
       "</table>\n",
       "</div>"
      ],
      "text/plain": [
       "     Sales Person    Country              Product       Date  Amount  \\\n",
       "0  Jehu Rudeforth         UK      Mint Chip Choco 2022-01-04    5320   \n",
       "1     Van Tuxwell      India        85% Dark Bars 2022-08-01    7896   \n",
       "2    Gigi Bohling      India  Peanut Butter Cubes 2022-07-07    4501   \n",
       "3    Jan Morforth  Australia  Peanut Butter Cubes 2022-04-27   12726   \n",
       "4  Jehu Rudeforth         UK  Peanut Butter Cubes 2022-02-24   13685   \n",
       "\n",
       "   Boxes Shipped  Month  \n",
       "0            180      1  \n",
       "1             94      8  \n",
       "2             91      7  \n",
       "3            342      4  \n",
       "4            184      2  "
      ]
     },
     "execution_count": 8,
     "metadata": {},
     "output_type": "execute_result"
    }
   ],
   "source": [
    "# Create another column called \"Month\" for later use\n",
    "df[\"Month\"] = df[\"Date\"].dt.month\n",
    "df.head(5)"
   ]
  },
  {
   "cell_type": "markdown",
   "id": "113e7128",
   "metadata": {},
   "source": [
    "# Exploratory Data Analysis (EDA)"
   ]
  },
  {
   "cell_type": "markdown",
   "id": "4132f147",
   "metadata": {},
   "source": [
    "### a. The general information about the entire data set Chocolate_Sales.csv "
   ]
  },
  {
   "cell_type": "code",
   "execution_count": 9,
   "id": "6a90ae96",
   "metadata": {},
   "outputs": [
    {
     "data": {
      "text/html": [
       "<div>\n",
       "<style scoped>\n",
       "    .dataframe tbody tr th:only-of-type {\n",
       "        vertical-align: middle;\n",
       "    }\n",
       "\n",
       "    .dataframe tbody tr th {\n",
       "        vertical-align: top;\n",
       "    }\n",
       "\n",
       "    .dataframe thead th {\n",
       "        text-align: right;\n",
       "    }\n",
       "</style>\n",
       "<table border=\"1\" class=\"dataframe\">\n",
       "  <thead>\n",
       "    <tr style=\"text-align: right;\">\n",
       "      <th></th>\n",
       "      <th>Sales Person</th>\n",
       "      <th>Country</th>\n",
       "      <th>Product</th>\n",
       "      <th>Date</th>\n",
       "      <th>Amount</th>\n",
       "      <th>Boxes Shipped</th>\n",
       "      <th>Month</th>\n",
       "    </tr>\n",
       "  </thead>\n",
       "  <tbody>\n",
       "    <tr>\n",
       "      <th>0</th>\n",
       "      <td>Jehu Rudeforth</td>\n",
       "      <td>UK</td>\n",
       "      <td>Mint Chip Choco</td>\n",
       "      <td>2022-01-04</td>\n",
       "      <td>5320</td>\n",
       "      <td>180</td>\n",
       "      <td>1</td>\n",
       "    </tr>\n",
       "    <tr>\n",
       "      <th>1</th>\n",
       "      <td>Van Tuxwell</td>\n",
       "      <td>India</td>\n",
       "      <td>85% Dark Bars</td>\n",
       "      <td>2022-08-01</td>\n",
       "      <td>7896</td>\n",
       "      <td>94</td>\n",
       "      <td>8</td>\n",
       "    </tr>\n",
       "    <tr>\n",
       "      <th>2</th>\n",
       "      <td>Gigi Bohling</td>\n",
       "      <td>India</td>\n",
       "      <td>Peanut Butter Cubes</td>\n",
       "      <td>2022-07-07</td>\n",
       "      <td>4501</td>\n",
       "      <td>91</td>\n",
       "      <td>7</td>\n",
       "    </tr>\n",
       "    <tr>\n",
       "      <th>3</th>\n",
       "      <td>Jan Morforth</td>\n",
       "      <td>Australia</td>\n",
       "      <td>Peanut Butter Cubes</td>\n",
       "      <td>2022-04-27</td>\n",
       "      <td>12726</td>\n",
       "      <td>342</td>\n",
       "      <td>4</td>\n",
       "    </tr>\n",
       "    <tr>\n",
       "      <th>4</th>\n",
       "      <td>Jehu Rudeforth</td>\n",
       "      <td>UK</td>\n",
       "      <td>Peanut Butter Cubes</td>\n",
       "      <td>2022-02-24</td>\n",
       "      <td>13685</td>\n",
       "      <td>184</td>\n",
       "      <td>2</td>\n",
       "    </tr>\n",
       "  </tbody>\n",
       "</table>\n",
       "</div>"
      ],
      "text/plain": [
       "     Sales Person    Country              Product       Date  Amount  \\\n",
       "0  Jehu Rudeforth         UK      Mint Chip Choco 2022-01-04    5320   \n",
       "1     Van Tuxwell      India        85% Dark Bars 2022-08-01    7896   \n",
       "2    Gigi Bohling      India  Peanut Butter Cubes 2022-07-07    4501   \n",
       "3    Jan Morforth  Australia  Peanut Butter Cubes 2022-04-27   12726   \n",
       "4  Jehu Rudeforth         UK  Peanut Butter Cubes 2022-02-24   13685   \n",
       "\n",
       "   Boxes Shipped  Month  \n",
       "0            180      1  \n",
       "1             94      8  \n",
       "2             91      7  \n",
       "3            342      4  \n",
       "4            184      2  "
      ]
     },
     "execution_count": 9,
     "metadata": {},
     "output_type": "execute_result"
    }
   ],
   "source": [
    "df.head(5)"
   ]
  },
  {
   "cell_type": "code",
   "execution_count": 10,
   "id": "5146eaed",
   "metadata": {},
   "outputs": [
    {
     "data": {
      "text/html": [
       "<div>\n",
       "<style scoped>\n",
       "    .dataframe tbody tr th:only-of-type {\n",
       "        vertical-align: middle;\n",
       "    }\n",
       "\n",
       "    .dataframe tbody tr th {\n",
       "        vertical-align: top;\n",
       "    }\n",
       "\n",
       "    .dataframe thead th {\n",
       "        text-align: right;\n",
       "    }\n",
       "</style>\n",
       "<table border=\"1\" class=\"dataframe\">\n",
       "  <thead>\n",
       "    <tr style=\"text-align: right;\">\n",
       "      <th></th>\n",
       "      <th>Sales Person</th>\n",
       "      <th>Country</th>\n",
       "      <th>Product</th>\n",
       "      <th>Date</th>\n",
       "      <th>Amount</th>\n",
       "      <th>Boxes Shipped</th>\n",
       "      <th>Month</th>\n",
       "    </tr>\n",
       "  </thead>\n",
       "  <tbody>\n",
       "    <tr>\n",
       "      <th>1089</th>\n",
       "      <td>Karlen McCaffrey</td>\n",
       "      <td>Australia</td>\n",
       "      <td>Spicy Special Slims</td>\n",
       "      <td>2022-05-17</td>\n",
       "      <td>4410</td>\n",
       "      <td>323</td>\n",
       "      <td>5</td>\n",
       "    </tr>\n",
       "    <tr>\n",
       "      <th>1090</th>\n",
       "      <td>Jehu Rudeforth</td>\n",
       "      <td>USA</td>\n",
       "      <td>White Choc</td>\n",
       "      <td>2022-06-07</td>\n",
       "      <td>6559</td>\n",
       "      <td>119</td>\n",
       "      <td>6</td>\n",
       "    </tr>\n",
       "    <tr>\n",
       "      <th>1091</th>\n",
       "      <td>Ches Bonnell</td>\n",
       "      <td>Canada</td>\n",
       "      <td>Organic Choco Syrup</td>\n",
       "      <td>2022-07-26</td>\n",
       "      <td>574</td>\n",
       "      <td>217</td>\n",
       "      <td>7</td>\n",
       "    </tr>\n",
       "    <tr>\n",
       "      <th>1092</th>\n",
       "      <td>Dotty Strutley</td>\n",
       "      <td>India</td>\n",
       "      <td>Eclairs</td>\n",
       "      <td>2022-07-28</td>\n",
       "      <td>2086</td>\n",
       "      <td>384</td>\n",
       "      <td>7</td>\n",
       "    </tr>\n",
       "    <tr>\n",
       "      <th>1093</th>\n",
       "      <td>Karlen McCaffrey</td>\n",
       "      <td>India</td>\n",
       "      <td>70% Dark Bites</td>\n",
       "      <td>2022-05-23</td>\n",
       "      <td>5075</td>\n",
       "      <td>344</td>\n",
       "      <td>5</td>\n",
       "    </tr>\n",
       "  </tbody>\n",
       "</table>\n",
       "</div>"
      ],
      "text/plain": [
       "          Sales Person    Country              Product       Date  Amount  \\\n",
       "1089  Karlen McCaffrey  Australia  Spicy Special Slims 2022-05-17    4410   \n",
       "1090    Jehu Rudeforth        USA           White Choc 2022-06-07    6559   \n",
       "1091      Ches Bonnell     Canada  Organic Choco Syrup 2022-07-26     574   \n",
       "1092    Dotty Strutley      India              Eclairs 2022-07-28    2086   \n",
       "1093  Karlen McCaffrey      India       70% Dark Bites 2022-05-23    5075   \n",
       "\n",
       "      Boxes Shipped  Month  \n",
       "1089            323      5  \n",
       "1090            119      6  \n",
       "1091            217      7  \n",
       "1092            384      7  \n",
       "1093            344      5  "
      ]
     },
     "execution_count": 10,
     "metadata": {},
     "output_type": "execute_result"
    }
   ],
   "source": [
    "df.tail(5)"
   ]
  },
  {
   "cell_type": "code",
   "execution_count": 11,
   "id": "b7ef2234",
   "metadata": {},
   "outputs": [
    {
     "data": {
      "text/html": [
       "<div>\n",
       "<style scoped>\n",
       "    .dataframe tbody tr th:only-of-type {\n",
       "        vertical-align: middle;\n",
       "    }\n",
       "\n",
       "    .dataframe tbody tr th {\n",
       "        vertical-align: top;\n",
       "    }\n",
       "\n",
       "    .dataframe thead th {\n",
       "        text-align: right;\n",
       "    }\n",
       "</style>\n",
       "<table border=\"1\" class=\"dataframe\">\n",
       "  <thead>\n",
       "    <tr style=\"text-align: right;\">\n",
       "      <th></th>\n",
       "      <th>Sales Person</th>\n",
       "      <th>Country</th>\n",
       "      <th>Product</th>\n",
       "      <th>Date</th>\n",
       "      <th>Amount</th>\n",
       "      <th>Boxes Shipped</th>\n",
       "      <th>Month</th>\n",
       "    </tr>\n",
       "  </thead>\n",
       "  <tbody>\n",
       "    <tr>\n",
       "      <th>22</th>\n",
       "      <td>Marney O'Breen</td>\n",
       "      <td>USA</td>\n",
       "      <td>After Nines</td>\n",
       "      <td>2022-05-30</td>\n",
       "      <td>4753</td>\n",
       "      <td>163</td>\n",
       "      <td>5</td>\n",
       "    </tr>\n",
       "    <tr>\n",
       "      <th>404</th>\n",
       "      <td>Marney O'Breen</td>\n",
       "      <td>UK</td>\n",
       "      <td>Orange Choco</td>\n",
       "      <td>2022-06-06</td>\n",
       "      <td>11319</td>\n",
       "      <td>12</td>\n",
       "      <td>6</td>\n",
       "    </tr>\n",
       "    <tr>\n",
       "      <th>336</th>\n",
       "      <td>Gigi Bohling</td>\n",
       "      <td>UK</td>\n",
       "      <td>70% Dark Bites</td>\n",
       "      <td>2022-06-21</td>\n",
       "      <td>840</td>\n",
       "      <td>81</td>\n",
       "      <td>6</td>\n",
       "    </tr>\n",
       "    <tr>\n",
       "      <th>203</th>\n",
       "      <td>Jan Morforth</td>\n",
       "      <td>Australia</td>\n",
       "      <td>White Choc</td>\n",
       "      <td>2022-07-27</td>\n",
       "      <td>3472</td>\n",
       "      <td>32</td>\n",
       "      <td>7</td>\n",
       "    </tr>\n",
       "    <tr>\n",
       "      <th>173</th>\n",
       "      <td>Van Tuxwell</td>\n",
       "      <td>Canada</td>\n",
       "      <td>Almond Choco</td>\n",
       "      <td>2022-06-27</td>\n",
       "      <td>3213</td>\n",
       "      <td>72</td>\n",
       "      <td>6</td>\n",
       "    </tr>\n",
       "  </tbody>\n",
       "</table>\n",
       "</div>"
      ],
      "text/plain": [
       "       Sales Person    Country         Product       Date  Amount  \\\n",
       "22   Marney O'Breen        USA     After Nines 2022-05-30    4753   \n",
       "404  Marney O'Breen         UK    Orange Choco 2022-06-06   11319   \n",
       "336    Gigi Bohling         UK  70% Dark Bites 2022-06-21     840   \n",
       "203    Jan Morforth  Australia      White Choc 2022-07-27    3472   \n",
       "173     Van Tuxwell     Canada    Almond Choco 2022-06-27    3213   \n",
       "\n",
       "     Boxes Shipped  Month  \n",
       "22             163      5  \n",
       "404             12      6  \n",
       "336             81      6  \n",
       "203             32      7  \n",
       "173             72      6  "
      ]
     },
     "execution_count": 11,
     "metadata": {},
     "output_type": "execute_result"
    }
   ],
   "source": [
    "df.sample(5)"
   ]
  },
  {
   "cell_type": "code",
   "execution_count": 12,
   "id": "c91ae921",
   "metadata": {},
   "outputs": [
    {
     "data": {
      "text/plain": [
       "(1094, 7)"
      ]
     },
     "execution_count": 12,
     "metadata": {},
     "output_type": "execute_result"
    }
   ],
   "source": [
    "df.shape"
   ]
  },
  {
   "cell_type": "markdown",
   "id": "5ce6014b",
   "metadata": {},
   "source": [
    "There are 1094 rows and 7 columns"
   ]
  },
  {
   "cell_type": "code",
   "execution_count": 13,
   "id": "df18d5d3",
   "metadata": {},
   "outputs": [
    {
     "data": {
      "text/plain": [
       "Index(['Sales Person', 'Country', 'Product', 'Date', 'Amount', 'Boxes Shipped',\n",
       "       'Month'],\n",
       "      dtype='object')"
      ]
     },
     "execution_count": 13,
     "metadata": {},
     "output_type": "execute_result"
    }
   ],
   "source": [
    "df.columns"
   ]
  },
  {
   "cell_type": "code",
   "execution_count": 14,
   "id": "7a795e19",
   "metadata": {},
   "outputs": [
    {
     "name": "stdout",
     "output_type": "stream",
     "text": [
      "<class 'pandas.core.frame.DataFrame'>\n",
      "RangeIndex: 1094 entries, 0 to 1093\n",
      "Data columns (total 7 columns):\n",
      " #   Column         Non-Null Count  Dtype         \n",
      "---  ------         --------------  -----         \n",
      " 0   Sales Person   1094 non-null   object        \n",
      " 1   Country        1094 non-null   object        \n",
      " 2   Product        1094 non-null   object        \n",
      " 3   Date           1094 non-null   datetime64[ns]\n",
      " 4   Amount         1094 non-null   int64         \n",
      " 5   Boxes Shipped  1094 non-null   int64         \n",
      " 6   Month          1094 non-null   int32         \n",
      "dtypes: datetime64[ns](1), int32(1), int64(2), object(3)\n",
      "memory usage: 55.7+ KB\n"
     ]
    }
   ],
   "source": [
    "df.info()"
   ]
  },
  {
   "cell_type": "code",
   "execution_count": 15,
   "id": "52776de7",
   "metadata": {},
   "outputs": [
    {
     "data": {
      "text/plain": [
       "Sales Person             object\n",
       "Country                  object\n",
       "Product                  object\n",
       "Date             datetime64[ns]\n",
       "Amount                    int64\n",
       "Boxes Shipped             int64\n",
       "Month                     int32\n",
       "dtype: object"
      ]
     },
     "execution_count": 15,
     "metadata": {},
     "output_type": "execute_result"
    }
   ],
   "source": [
    "df.dtypes"
   ]
  },
  {
   "cell_type": "code",
   "execution_count": 16,
   "id": "6440b72f",
   "metadata": {},
   "outputs": [
    {
     "data": {
      "text/html": [
       "<div>\n",
       "<style scoped>\n",
       "    .dataframe tbody tr th:only-of-type {\n",
       "        vertical-align: middle;\n",
       "    }\n",
       "\n",
       "    .dataframe tbody tr th {\n",
       "        vertical-align: top;\n",
       "    }\n",
       "\n",
       "    .dataframe thead th {\n",
       "        text-align: right;\n",
       "    }\n",
       "</style>\n",
       "<table border=\"1\" class=\"dataframe\">\n",
       "  <thead>\n",
       "    <tr style=\"text-align: right;\">\n",
       "      <th></th>\n",
       "      <th>Amount</th>\n",
       "      <th>Boxes Shipped</th>\n",
       "    </tr>\n",
       "  </thead>\n",
       "  <tbody>\n",
       "    <tr>\n",
       "      <th>count</th>\n",
       "      <td>1094.000000</td>\n",
       "      <td>1094.000000</td>\n",
       "    </tr>\n",
       "    <tr>\n",
       "      <th>mean</th>\n",
       "      <td>5652.308044</td>\n",
       "      <td>161.797989</td>\n",
       "    </tr>\n",
       "    <tr>\n",
       "      <th>std</th>\n",
       "      <td>4102.442014</td>\n",
       "      <td>121.544145</td>\n",
       "    </tr>\n",
       "    <tr>\n",
       "      <th>min</th>\n",
       "      <td>7.000000</td>\n",
       "      <td>1.000000</td>\n",
       "    </tr>\n",
       "    <tr>\n",
       "      <th>25%</th>\n",
       "      <td>2390.500000</td>\n",
       "      <td>70.000000</td>\n",
       "    </tr>\n",
       "    <tr>\n",
       "      <th>50%</th>\n",
       "      <td>4868.500000</td>\n",
       "      <td>135.000000</td>\n",
       "    </tr>\n",
       "    <tr>\n",
       "      <th>75%</th>\n",
       "      <td>8027.250000</td>\n",
       "      <td>228.750000</td>\n",
       "    </tr>\n",
       "    <tr>\n",
       "      <th>max</th>\n",
       "      <td>22050.000000</td>\n",
       "      <td>709.000000</td>\n",
       "    </tr>\n",
       "  </tbody>\n",
       "</table>\n",
       "</div>"
      ],
      "text/plain": [
       "             Amount  Boxes Shipped\n",
       "count   1094.000000    1094.000000\n",
       "mean    5652.308044     161.797989\n",
       "std     4102.442014     121.544145\n",
       "min        7.000000       1.000000\n",
       "25%     2390.500000      70.000000\n",
       "50%     4868.500000     135.000000\n",
       "75%     8027.250000     228.750000\n",
       "max    22050.000000     709.000000"
      ]
     },
     "execution_count": 16,
     "metadata": {},
     "output_type": "execute_result"
    }
   ],
   "source": [
    "df[[\"Amount\",\"Boxes Shipped\"]].describe()"
   ]
  },
  {
   "cell_type": "code",
   "execution_count": 17,
   "id": "7b497792",
   "metadata": {},
   "outputs": [
    {
     "data": {
      "text/html": [
       "<div>\n",
       "<style scoped>\n",
       "    .dataframe tbody tr th:only-of-type {\n",
       "        vertical-align: middle;\n",
       "    }\n",
       "\n",
       "    .dataframe tbody tr th {\n",
       "        vertical-align: top;\n",
       "    }\n",
       "\n",
       "    .dataframe thead th {\n",
       "        text-align: right;\n",
       "    }\n",
       "</style>\n",
       "<table border=\"1\" class=\"dataframe\">\n",
       "  <thead>\n",
       "    <tr style=\"text-align: right;\">\n",
       "      <th></th>\n",
       "      <th>Sales Person</th>\n",
       "      <th>Country</th>\n",
       "      <th>Product</th>\n",
       "    </tr>\n",
       "  </thead>\n",
       "  <tbody>\n",
       "    <tr>\n",
       "      <th>count</th>\n",
       "      <td>1094</td>\n",
       "      <td>1094</td>\n",
       "      <td>1094</td>\n",
       "    </tr>\n",
       "    <tr>\n",
       "      <th>unique</th>\n",
       "      <td>25</td>\n",
       "      <td>6</td>\n",
       "      <td>22</td>\n",
       "    </tr>\n",
       "    <tr>\n",
       "      <th>top</th>\n",
       "      <td>Kelci Walkden</td>\n",
       "      <td>Australia</td>\n",
       "      <td>50% Dark Bites</td>\n",
       "    </tr>\n",
       "    <tr>\n",
       "      <th>freq</th>\n",
       "      <td>54</td>\n",
       "      <td>205</td>\n",
       "      <td>60</td>\n",
       "    </tr>\n",
       "  </tbody>\n",
       "</table>\n",
       "</div>"
      ],
      "text/plain": [
       "         Sales Person    Country         Product\n",
       "count            1094       1094            1094\n",
       "unique             25          6              22\n",
       "top     Kelci Walkden  Australia  50% Dark Bites\n",
       "freq               54        205              60"
      ]
     },
     "execution_count": 17,
     "metadata": {},
     "output_type": "execute_result"
    }
   ],
   "source": [
    "df.describe(include='object')"
   ]
  },
  {
   "cell_type": "markdown",
   "id": "ae920637",
   "metadata": {},
   "source": [
    "### b. List the chocolates sold out to India. "
   ]
  },
  {
   "cell_type": "code",
   "execution_count": 18,
   "id": "b3c1b10a",
   "metadata": {},
   "outputs": [
    {
     "data": {
      "text/plain": [
       "array(['85% Dark Bars', 'Peanut Butter Cubes', 'Smooth Sliky Salty',\n",
       "       'Fruit & Nut Bars', 'Manuka Honey Choco', 'Spicy Special Slims',\n",
       "       'Eclairs', 'Almond Choco', '99% Dark & Pure', '50% Dark Bites',\n",
       "       'Organic Choco Syrup', 'Raspberry Choco', 'Orange Choco',\n",
       "       'Caramel Stuffed Bars', \"Baker's Choco Chips\", 'After Nines',\n",
       "       'Drinking Coco', '70% Dark Bites', 'Milk Bars', 'Mint Chip Choco',\n",
       "       'Choco Coated Almonds', 'White Choc'], dtype=object)"
      ]
     },
     "execution_count": 18,
     "metadata": {},
     "output_type": "execute_result"
    }
   ],
   "source": [
    "# Find all the name of the chocolates that sold out to India\n",
    "products = df.loc[df[\"Country\"] == \"India\"][\"Product\"]\n",
    "\n",
    "# Find the name of chocolates\n",
    "products.unique()"
   ]
  },
  {
   "cell_type": "markdown",
   "id": "e5dfedc1",
   "metadata": {},
   "source": [
    "### c. Identify the salesperson with the highest sales by ranking them based on sales amount. "
   ]
  },
  {
   "cell_type": "code",
   "execution_count": 19,
   "id": "3c70a273",
   "metadata": {},
   "outputs": [
    {
     "data": {
      "text/plain": [
       "Sales Person\n",
       "Ches Bonnell           320901\n",
       "Oby Sorrel             316645\n",
       "Madelene Upcott        316099\n",
       "Brien Boise            312816\n",
       "Kelci Walkden          311710\n",
       "Van Tuxwell            303149\n",
       "Dennison Crosswaite    291669\n",
       "Beverie Moffet         278922\n",
       "Kaine Padly            266490\n",
       "Marney O'Breen         259742\n",
       "Barr Faughny           258713\n",
       "Roddy Speechley        251062\n",
       "Gunar Cockshoot        238483\n",
       "Gigi Bohling           232666\n",
       "Karlen McCaffrey       223895\n",
       "Jehu Rudeforth         220976\n",
       "Jan Morforth           219667\n",
       "Curtice Advani         216461\n",
       "Rafaelita Blaksland    210245\n",
       "Husein Augar           205212\n",
       "Andria Kimpton         201747\n",
       "Mallorie Waber         200592\n",
       "Camilla Castle         196616\n",
       "Dotty Strutley         190624\n",
       "Wilone O'Kielt         138523\n",
       "Name: Amount, dtype: int64"
      ]
     },
     "execution_count": 19,
     "metadata": {},
     "output_type": "execute_result"
    }
   ],
   "source": [
    "# Sum the amount based on the sales person and sort it descendingly.\n",
    "df.groupby([\"Sales Person\"])[\"Amount\"].sum().sort_values(ascending=False)"
   ]
  },
  {
   "cell_type": "markdown",
   "id": "13a10105",
   "metadata": {},
   "source": [
    "Ches Bonnell "
   ]
  },
  {
   "cell_type": "markdown",
   "id": "1a0106af",
   "metadata": {},
   "source": [
    "### d. Find all sales region or store location where the transaction took place. \n"
   ]
  },
  {
   "cell_type": "code",
   "execution_count": 20,
   "id": "81c66dce",
   "metadata": {},
   "outputs": [
    {
     "data": {
      "text/plain": [
       "array(['UK', 'India', 'Australia', 'New Zealand', 'USA', 'Canada'],\n",
       "      dtype=object)"
      ]
     },
     "execution_count": 20,
     "metadata": {},
     "output_type": "execute_result"
    }
   ],
   "source": [
    "# Find all sales region or store location\n",
    "df[\"Country\"].unique()"
   ]
  },
  {
   "cell_type": "markdown",
   "id": "e5990317",
   "metadata": {},
   "source": [
    "Australia Canada India New Zealand UK USA"
   ]
  },
  {
   "cell_type": "markdown",
   "id": "c7bba746",
   "metadata": {},
   "source": [
    "### e. Do additional EDA steps to explain your problem definition in detail."
   ]
  },
  {
   "cell_type": "markdown",
   "id": "fde59f15",
   "metadata": {},
   "source": [
    "### Which chocolate products generate the highest revenue?"
   ]
  },
  {
   "cell_type": "code",
   "execution_count": 21,
   "id": "89ce6cc1",
   "metadata": {},
   "outputs": [
    {
     "name": "stdout",
     "output_type": "stream",
     "text": [
      "Product\n",
      "Smooth Sliky Salty    349692\n",
      "50% Dark Bites        341712\n",
      "White Choc            329147\n",
      "Name: Amount, dtype: int64\n"
     ]
    }
   ],
   "source": [
    "# Use Product and Amount columns\n",
    "revenue = df[[\"Product\", \"Amount\"]]\n",
    "\n",
    "# Find the revenue by grouping the product based on the sum of the amount and sort it ascendingly\n",
    "max_rev = revenue.groupby(\"Product\")[\"Amount\"].sum().sort_values(ascending=False)\n",
    "# Get the top 3 revenues\n",
    "top3_rev = max_rev.head(3)\n",
    "print(top3_rev)"
   ]
  },
  {
   "cell_type": "markdown",
   "id": "71eaef83",
   "metadata": {},
   "source": [
    "Smooth Sliky Salty,50% Dark Bites and White Choc"
   ]
  },
  {
   "cell_type": "markdown",
   "id": "7ae24af0",
   "metadata": {},
   "source": [
    "### Which countries contribute most to the total sales?"
   ]
  },
  {
   "cell_type": "code",
   "execution_count": 22,
   "id": "6b2a5875",
   "metadata": {},
   "outputs": [
    {
     "name": "stdout",
     "output_type": "stream",
     "text": [
      "Country\n",
      "Australia    1137367\n",
      "UK           1051792\n",
      "India        1045800\n",
      "Name: Amount, dtype: int64\n"
     ]
    }
   ],
   "source": [
    "# Find the country sales by grouping based on country and sum the amount and sort it in descending order\n",
    "country_sales = df.groupby(\"Country\")[\"Amount\"].sum().sort_values(ascending=False)\n",
    "\n",
    "# Find the top 3 countries sales\n",
    "top3_country_sales =country_sales.head(3)\n",
    "print(top3_country_sales)"
   ]
  },
  {
   "cell_type": "markdown",
   "id": "9f3f7588",
   "metadata": {},
   "source": [
    "Australia, UK and India"
   ]
  },
  {
   "cell_type": "markdown",
   "id": "bf07254d",
   "metadata": {},
   "source": [
    "### Is there a correlation between the revenue (Amount) and the number of boxes shipped?\n",
    "\n"
   ]
  },
  {
   "cell_type": "code",
   "execution_count": 23,
   "id": "516d24fc",
   "metadata": {},
   "outputs": [
    {
     "data": {
      "text/html": [
       "<div>\n",
       "<style scoped>\n",
       "    .dataframe tbody tr th:only-of-type {\n",
       "        vertical-align: middle;\n",
       "    }\n",
       "\n",
       "    .dataframe tbody tr th {\n",
       "        vertical-align: top;\n",
       "    }\n",
       "\n",
       "    .dataframe thead th {\n",
       "        text-align: right;\n",
       "    }\n",
       "</style>\n",
       "<table border=\"1\" class=\"dataframe\">\n",
       "  <thead>\n",
       "    <tr style=\"text-align: right;\">\n",
       "      <th></th>\n",
       "      <th>Amount</th>\n",
       "      <th>Boxes Shipped</th>\n",
       "    </tr>\n",
       "  </thead>\n",
       "  <tbody>\n",
       "    <tr>\n",
       "      <th>Amount</th>\n",
       "      <td>1.000000</td>\n",
       "      <td>-0.018827</td>\n",
       "    </tr>\n",
       "    <tr>\n",
       "      <th>Boxes Shipped</th>\n",
       "      <td>-0.018827</td>\n",
       "      <td>1.000000</td>\n",
       "    </tr>\n",
       "  </tbody>\n",
       "</table>\n",
       "</div>"
      ],
      "text/plain": [
       "                 Amount  Boxes Shipped\n",
       "Amount         1.000000      -0.018827\n",
       "Boxes Shipped -0.018827       1.000000"
      ]
     },
     "execution_count": 23,
     "metadata": {},
     "output_type": "execute_result"
    }
   ],
   "source": [
    "# Use only Amount and Boxes Shipped columns\n",
    "amount_box_shipped = df[[\"Amount\", \"Boxes Shipped\"]]\n",
    "\n",
    "# Find the correlation between these two columns\n",
    "amount_box_shipped.corr()"
   ]
  },
  {
   "cell_type": "markdown",
   "id": "5027678c",
   "metadata": {},
   "source": [
    "No. There is no correlation between the revenue (Amount) and the number of boxes shipped. The correlation value is very close to 0, and slightly negative."
   ]
  },
  {
   "cell_type": "markdown",
   "id": "d3897d9b",
   "metadata": {},
   "source": [
    "### Do sales vary significantly across different months?"
   ]
  },
  {
   "cell_type": "code",
   "execution_count": 24,
   "id": "53005c65",
   "metadata": {},
   "outputs": [
    {
     "name": "stdout",
     "output_type": "stream",
     "text": [
      "Month\n",
      "1    896105\n",
      "2    699377\n",
      "3    749483\n",
      "4    674051\n",
      "5    752892\n",
      "6    865144\n",
      "7    803425\n",
      "8    743148\n",
      "Name: Amount, dtype: int64\n"
     ]
    },
    {
     "data": {
      "text/plain": [
       "count         8.00000\n",
       "mean     772953.12500\n",
       "std       77118.45656\n",
       "min      674051.00000\n",
       "25%      732205.25000\n",
       "50%      751187.50000\n",
       "75%      818854.75000\n",
       "max      896105.00000\n",
       "Name: Amount, dtype: float64"
      ]
     },
     "execution_count": 24,
     "metadata": {},
     "output_type": "execute_result"
    }
   ],
   "source": [
    "# Group by the month and sum all the amount\n",
    "amount_according_month = df.groupby([\"Month\"])[\"Amount\"].sum() \n",
    "print(amount_according_month)\n",
    "amount_according_month.describe()"
   ]
  },
  {
   "cell_type": "markdown",
   "id": "a7a04b08",
   "metadata": {},
   "source": [
    "Yes, sales do vary significantly across different months. Month 1 has the highest amount. In Contrast, Month 4 mark the lowest amount. "
   ]
  },
  {
   "cell_type": "markdown",
   "id": "dd212f3a",
   "metadata": {},
   "source": [
    "### What percentage of total sales is contributed by the top 5 products?\n",
    "\n"
   ]
  },
  {
   "cell_type": "code",
   "execution_count": 25,
   "id": "e8a03d41",
   "metadata": {},
   "outputs": [
    {
     "name": "stdout",
     "output_type": "stream",
     "text": [
      "1657838\n"
     ]
    }
   ],
   "source": [
    "# Find product sales by group the Product and calculate the sum of the amount and sort it in descending order\n",
    "product_sales = df.groupby(\"Product\")[\"Amount\"].sum().sort_values(ascending=False)\n",
    "\n",
    "# From the sorted products, select the top 5 highest sales amounts and calculate their combined total.\n",
    "top_5_sales_amount = product_sales.head(5).sum()\n",
    "print(top_5_sales_amount)"
   ]
  },
  {
   "cell_type": "code",
   "execution_count": 26,
   "id": "13c49673",
   "metadata": {},
   "outputs": [
    {
     "name": "stdout",
     "output_type": "stream",
     "text": [
      "6183625\n"
     ]
    }
   ],
   "source": [
    "# Find the total sales \n",
    "total_sales_amount = product_sales.sum()\n",
    "print(total_sales_amount)"
   ]
  },
  {
   "cell_type": "code",
   "execution_count": 27,
   "id": "860a04b4",
   "metadata": {},
   "outputs": [
    {
     "name": "stdout",
     "output_type": "stream",
     "text": [
      "Top 5 products contributed approximately 26.81% of the total sales.\n"
     ]
    }
   ],
   "source": [
    "# Calculate the percentage of the total sales contributed by the top 5 products\n",
    "percentage = (top_5_sales_amount / total_sales_amount) * 100\n",
    "print(f\"Top 5 products contributed approximately {percentage:.2f}% of the total sales.\")"
   ]
  },
  {
   "cell_type": "markdown",
   "id": "39a2a2af",
   "metadata": {},
   "source": [
    "# 2.5 Data Visualization"
   ]
  },
  {
   "cell_type": "markdown",
   "id": "00ff4eb0",
   "metadata": {},
   "source": [
    "### a. Plot the suitable type of chart to the top 3 countries where the maximum number of boxes shipped."
   ]
  },
  {
   "cell_type": "code",
   "execution_count": 28,
   "id": "a870ab3f",
   "metadata": {},
   "outputs": [
    {
     "data": {
      "image/png": "[encoded data removed]",
      "text/plain": [
       "<Figure size 640x480 with 1 Axes>"
      ]
     },
     "metadata": {},
     "output_type": "display_data"
    }
   ],
   "source": [
    "# Find Top 3 coutries by grouping based on the country and sum the boxes shipped and sort descendingly. Get only the first 3\n",
    "top_3_countries = df.groupby(\"Country\")[\"Boxes Shipped\"].sum().sort_values(ascending=False).head(3)\n",
    "\n",
    "# Set the title\n",
    "plt.title(\"Top 3 Countries where the Maximum Number of Boxes Shipped\")\n",
    "\n",
    "# Plot a bar chart\n",
    "plt.bar(x=top_3_countries.index,height=top_3_countries, color=\"purple\")\n",
    "\n",
    "# Label x-axis\n",
    "plt.xlabel(\"Countries\")\n",
    "\n",
    "# Label y-axis\n",
    "plt.ylabel(\"Number of Boxes Shipped\")\n",
    "\n",
    "# Show the plot\n",
    "plt.show()"
   ]
  },
  {
   "cell_type": "markdown",
   "id": "946c76e6",
   "metadata": {},
   "source": [
    "### b. Select the appropriate chart type to create an interactive visualization of the monthly sales report categorized by country."
   ]
  },
  {
   "cell_type": "code",
   "execution_count": null,
   "id": "d8f3ccb5",
   "metadata": {},
   "outputs": [
    {
     "data": {
      "text/html": [
       "\n",
       "  <div id=\"e0f71493-6874-4107-9ef6-ca6c7bdba8c7\" data-root-id=\"p2811\" style=\"display: contents;\"></div>\n"
      ]
     },
     "metadata": {},
     "output_type": "display_data"
    },
    {
     "data": {
      "application/javascript": "(function(root) {\n  function embed_document(root) {\n  const docs_json = {\"014b407f-57c3-403a-a6e1-524174edcfc8\":{\"version\":\"3.6.0\",\"title\":\"Bokeh Application\",\"roots\":[{\"type\":\"object\",\"name\":\"Figure\",\"id\":\"p2811\",\"attributes\":{\"width\":800,\"x_range\":{\"type\":\"object\",\"name\":\"DataRange1d\",\"id\":\"p2812\"},\"y_range\":{\"type\":\"object\",\"name\":\"DataRange1d\",\"id\":\"p2813\"},\"x_scale\":{\"type\":\"object\",\"name\":\"LinearScale\",\"id\":\"p2821\"},\"y_scale\":{\"type\":\"object\",\"name\":\"LinearScale\",\"id\":\"p2822\"},\"title\":{\"type\":\"object\",\"name\":\"Title\",\"id\":\"p2814\",\"attributes\":{\"text\":\"Monthly Sales by Country\"}},\"renderers\":[{\"type\":\"object\",\"name\":\"GlyphRenderer\",\"id\":\"p2851\",\"attributes\":{\"data_source\":{\"type\":\"object\",\"name\":\"ColumnDataSource\",\"id\":\"p2845\",\"attributes\":{\"selected\":{\"type\":\"object\",\"name\":\"Selection\",\"id\":\"p2846\",\"attributes\":{\"indices\":[],\"line_indices\":[]}},\"selection_policy\":{\"type\":\"object\",\"name\":\"UnionRenderers\",\"id\":\"p2847\"},\"data\":{\"type\":\"map\",\"entries\":[[\"x\",{\"type\":\"ndarray\",\"array\":{\"type\":\"bytes\",\"data\":\"AQAAAAIAAAADAAAABAAAAAUAAAAGAAAABwAAAAgAAAA=\"},\"shape\":[8],\"dtype\":\"int32\",\"order\":\"little\"}],[\"y\",{\"type\":\"ndarray\",\"array\":{\"type\":\"bytes\",\"data\":\"99sCAMbtAQA3hgIA8dYBAGjlAQA3OQIACgACAEkVAgA=\"},\"shape\":[8],\"dtype\":\"int32\",\"order\":\"little\"}]]}}},\"view\":{\"type\":\"object\",\"name\":\"CDSView\",\"id\":\"p2852\",\"attributes\":{\"filter\":{\"type\":\"object\",\"name\":\"AllIndices\",\"id\":\"p2853\"}}},\"glyph\":{\"type\":\"object\",\"name\":\"Line\",\"id\":\"p2848\",\"attributes\":{\"x\":{\"type\":\"field\",\"field\":\"x\"},\"y\":{\"type\":\"field\",\"field\":\"y\"},\"line_color\":\"green\"}},\"nonselection_glyph\":{\"type\":\"object\",\"name\":\"Line\",\"id\":\"p2849\",\"attributes\":{\"x\":{\"type\":\"field\",\"field\":\"x\"},\"y\":{\"type\":\"field\",\"field\":\"y\"},\"line_color\":\"green\",\"line_alpha\":0.1}},\"muted_glyph\":{\"type\":\"object\",\"name\":\"Line\",\"id\":\"p2850\",\"attributes\":{\"x\":{\"type\":\"field\",\"field\":\"x\"},\"y\":{\"type\":\"field\",\"field\":\"y\"},\"line_color\":\"green\",\"line_alpha\":0.2}}}},{\"type\":\"object\",\"name\":\"GlyphRenderer\",\"id\":\"p2862\",\"attributes\":{\"data_source\":{\"type\":\"object\",\"name\":\"ColumnDataSource\",\"id\":\"p2856\",\"attributes\":{\"selected\":{\"type\":\"object\",\"name\":\"Selection\",\"id\":\"p2857\",\"attributes\":{\"indices\":[],\"line_indices\":[]}},\"selection_policy\":{\"type\":\"object\",\"name\":\"UnionRenderers\",\"id\":\"p2858\"},\"data\":{\"type\":\"map\",\"entries\":[[\"x\",{\"type\":\"ndarray\",\"array\":{\"type\":\"bytes\",\"data\":\"AQAAAAIAAAADAAAABAAAAAUAAAAGAAAABwAAAAgAAAA=\"},\"shape\":[8],\"dtype\":\"int32\",\"order\":\"little\"}],[\"y\",{\"type\":\"ndarray\",\"array\":{\"type\":\"bytes\",\"data\":\"99sCAMbtAQA3hgIA8dYBAGjlAQA3OQIACgACAEkVAgA=\"},\"shape\":[8],\"dtype\":\"int32\",\"order\":\"little\"}]]}}},\"view\":{\"type\":\"object\",\"name\":\"CDSView\",\"id\":\"p2863\",\"attributes\":{\"filter\":{\"type\":\"object\",\"name\":\"AllIndices\",\"id\":\"p2864\"}}},\"glyph\":{\"type\":\"object\",\"name\":\"Scatter\",\"id\":\"p2859\",\"attributes\":{\"x\":{\"type\":\"field\",\"field\":\"x\"},\"y\":{\"type\":\"field\",\"field\":\"y\"},\"line_color\":{\"type\":\"value\",\"value\":\"green\"},\"fill_color\":{\"type\":\"value\",\"value\":\"green\"},\"hatch_color\":{\"type\":\"value\",\"value\":\"green\"}}},\"nonselection_glyph\":{\"type\":\"object\",\"name\":\"Scatter\",\"id\":\"p2860\",\"attributes\":{\"x\":{\"type\":\"field\",\"field\":\"x\"},\"y\":{\"type\":\"field\",\"field\":\"y\"},\"line_color\":{\"type\":\"value\",\"value\":\"green\"},\"line_alpha\":{\"type\":\"value\",\"value\":0.1},\"fill_color\":{\"type\":\"value\",\"value\":\"green\"},\"fill_alpha\":{\"type\":\"value\",\"value\":0.1},\"hatch_color\":{\"type\":\"value\",\"value\":\"green\"},\"hatch_alpha\":{\"type\":\"value\",\"value\":0.1}}},\"muted_glyph\":{\"type\":\"object\",\"name\":\"Scatter\",\"id\":\"p2861\",\"attributes\":{\"x\":{\"type\":\"field\",\"field\":\"x\"},\"y\":{\"type\":\"field\",\"field\":\"y\"},\"line_color\":{\"type\":\"value\",\"value\":\"green\"},\"line_alpha\":{\"type\":\"value\",\"value\":0.2},\"fill_color\":{\"type\":\"value\",\"value\":\"green\"},\"fill_alpha\":{\"type\":\"value\",\"value\":0.2},\"hatch_color\":{\"type\":\"value\",\"value\":\"green\"},\"hatch_alpha\":{\"type\":\"value\",\"value\":0.2}}}}},{\"type\":\"object\",\"name\":\"GlyphRenderer\",\"id\":\"p2871\",\"attributes\":{\"data_source\":{\"type\":\"object\",\"name\":\"ColumnDataSource\",\"id\":\"p2865\",\"attributes\":{\"selected\":{\"type\":\"object\",\"name\":\"Selection\",\"id\":\"p2866\",\"attributes\":{\"indices\":[],\"line_indices\":[]}},\"selection_policy\":{\"type\":\"object\",\"name\":\"UnionRenderers\",\"id\":\"p2867\"},\"data\":{\"type\":\"map\",\"entries\":[[\"x\",{\"type\":\"ndarray\",\"array\":{\"type\":\"bytes\",\"data\":\"AQAAAAIAAAADAAAABAAAAAUAAAAGAAAABwAAAAgAAAA=\"},\"shape\":[8],\"dtype\":\"int32\",\"order\":\"little\"}],[\"y\",{\"type\":\"ndarray\",\"array\":{\"type\":\"bytes\",\"data\":\"fTICADgNAgCB+QEAalwBAGRMAQDQVAEAvm0CAMEMAgA=\"},\"shape\":[8],\"dtype\":\"int32\",\"order\":\"little\"}]]}}},\"view\":{\"type\":\"object\",\"name\":\"CDSView\",\"id\":\"p2872\",\"attributes\":{\"filter\":{\"type\":\"object\",\"name\":\"AllIndices\",\"id\":\"p2873\"}}},\"glyph\":{\"type\":\"object\",\"name\":\"Line\",\"id\":\"p2868\",\"attributes\":{\"x\":{\"type\":\"field\",\"field\":\"x\"},\"y\":{\"type\":\"field\",\"field\":\"y\"},\"line_color\":\"red\"}},\"nonselection_glyph\":{\"type\":\"object\",\"name\":\"Line\",\"id\":\"p2869\",\"attributes\":{\"x\":{\"type\":\"field\",\"field\":\"x\"},\"y\":{\"type\":\"field\",\"field\":\"y\"},\"line_color\":\"red\",\"line_alpha\":0.1}},\"muted_glyph\":{\"type\":\"object\",\"name\":\"Line\",\"id\":\"p2870\",\"attributes\":{\"x\":{\"type\":\"field\",\"field\":\"x\"},\"y\":{\"type\":\"field\",\"field\":\"y\"},\"line_color\":\"red\",\"line_alpha\":0.2}}}},{\"type\":\"object\",\"name\":\"GlyphRenderer\",\"id\":\"p2881\",\"attributes\":{\"data_source\":{\"type\":\"object\",\"name\":\"ColumnDataSource\",\"id\":\"p2875\",\"attributes\":{\"selected\":{\"type\":\"object\",\"name\":\"Selection\",\"id\":\"p2876\",\"attributes\":{\"indices\":[],\"line_indices\":[]}},\"selection_policy\":{\"type\":\"object\",\"name\":\"UnionRenderers\",\"id\":\"p2877\"},\"data\":{\"type\":\"map\",\"entries\":[[\"x\",{\"type\":\"ndarray\",\"array\":{\"type\":\"bytes\",\"data\":\"AQAAAAIAAAADAAAABAAAAAUAAAAGAAAABwAAAAgAAAA=\"},\"shape\":[8],\"dtype\":\"int32\",\"order\":\"little\"}],[\"y\",{\"type\":\"ndarray\",\"array\":{\"type\":\"bytes\",\"data\":\"fTICADgNAgCB+QEAalwBAGRMAQDQVAEAvm0CAMEMAgA=\"},\"shape\":[8],\"dtype\":\"int32\",\"order\":\"little\"}]]}}},\"view\":{\"type\":\"object\",\"name\":\"CDSView\",\"id\":\"p2882\",\"attributes\":{\"filter\":{\"type\":\"object\",\"name\":\"AllIndices\",\"id\":\"p2883\"}}},\"glyph\":{\"type\":\"object\",\"name\":\"Scatter\",\"id\":\"p2878\",\"attributes\":{\"x\":{\"type\":\"field\",\"field\":\"x\"},\"y\":{\"type\":\"field\",\"field\":\"y\"},\"line_color\":{\"type\":\"value\",\"value\":\"red\"},\"fill_color\":{\"type\":\"value\",\"value\":\"red\"},\"hatch_color\":{\"type\":\"value\",\"value\":\"red\"}}},\"nonselection_glyph\":{\"type\":\"object\",\"name\":\"Scatter\",\"id\":\"p2879\",\"attributes\":{\"x\":{\"type\":\"field\",\"field\":\"x\"},\"y\":{\"type\":\"field\",\"field\":\"y\"},\"line_color\":{\"type\":\"value\",\"value\":\"red\"},\"line_alpha\":{\"type\":\"value\",\"value\":0.1},\"fill_color\":{\"type\":\"value\",\"value\":\"red\"},\"fill_alpha\":{\"type\":\"value\",\"value\":0.1},\"hatch_color\":{\"type\":\"value\",\"value\":\"red\"},\"hatch_alpha\":{\"type\":\"value\",\"value\":0.1}}},\"muted_glyph\":{\"type\":\"object\",\"name\":\"Scatter\",\"id\":\"p2880\",\"attributes\":{\"x\":{\"type\":\"field\",\"field\":\"x\"},\"y\":{\"type\":\"field\",\"field\":\"y\"},\"line_color\":{\"type\":\"value\",\"value\":\"red\"},\"line_alpha\":{\"type\":\"value\",\"value\":0.2},\"fill_color\":{\"type\":\"value\",\"value\":\"red\"},\"fill_alpha\":{\"type\":\"value\",\"value\":0.2},\"hatch_color\":{\"type\":\"value\",\"value\":\"red\"},\"hatch_alpha\":{\"type\":\"value\",\"value\":0.2}}}}},{\"type\":\"object\",\"name\":\"GlyphRenderer\",\"id\":\"p2890\",\"attributes\":{\"data_source\":{\"type\":\"object\",\"name\":\"ColumnDataSource\",\"id\":\"p2884\",\"attributes\":{\"selected\":{\"type\":\"object\",\"name\":\"Selection\",\"id\":\"p2885\",\"attributes\":{\"indices\":[],\"line_indices\":[]}},\"selection_policy\":{\"type\":\"object\",\"name\":\"UnionRenderers\",\"id\":\"p2886\"},\"data\":{\"type\":\"map\",\"entries\":[[\"x\",{\"type\":\"ndarray\",\"array\":{\"type\":\"bytes\",\"data\":\"AQAAAAIAAAADAAAABAAAAAUAAAAGAAAABwAAAAgAAAA=\"},\"shape\":[8],\"dtype\":\"int32\",\"order\":\"little\"}],[\"y\",{\"type\":\"ndarray\",\"array\":{\"type\":\"bytes\",\"data\":\"c+ACAECGAQAunAEA9Z0BAHZcAgDtLgMATXMBAAptAQA=\"},\"shape\":[8],\"dtype\":\"int32\",\"order\":\"little\"}]]}}},\"view\":{\"type\":\"object\",\"name\":\"CDSView\",\"id\":\"p2891\",\"attributes\":{\"filter\":{\"type\":\"object\",\"name\":\"AllIndices\",\"id\":\"p2892\"}}},\"glyph\":{\"type\":\"object\",\"name\":\"Line\",\"id\":\"p2887\",\"attributes\":{\"x\":{\"type\":\"field\",\"field\":\"x\"},\"y\":{\"type\":\"field\",\"field\":\"y\"},\"line_color\":\"blue\"}},\"nonselection_glyph\":{\"type\":\"object\",\"name\":\"Line\",\"id\":\"p2888\",\"attributes\":{\"x\":{\"type\":\"field\",\"field\":\"x\"},\"y\":{\"type\":\"field\",\"field\":\"y\"},\"line_color\":\"blue\",\"line_alpha\":0.1}},\"muted_glyph\":{\"type\":\"object\",\"name\":\"Line\",\"id\":\"p2889\",\"attributes\":{\"x\":{\"type\":\"field\",\"field\":\"x\"},\"y\":{\"type\":\"field\",\"field\":\"y\"},\"line_color\":\"blue\",\"line_alpha\":0.2}}}},{\"type\":\"object\",\"name\":\"GlyphRenderer\",\"id\":\"p2900\",\"attributes\":{\"data_source\":{\"type\":\"object\",\"name\":\"ColumnDataSource\",\"id\":\"p2894\",\"attributes\":{\"selected\":{\"type\":\"object\",\"name\":\"Selection\",\"id\":\"p2895\",\"attributes\":{\"indices\":[],\"line_indices\":[]}},\"selection_policy\":{\"type\":\"object\",\"name\":\"UnionRenderers\",\"id\":\"p2896\"},\"data\":{\"type\":\"map\",\"entries\":[[\"x\",{\"type\":\"ndarray\",\"array\":{\"type\":\"bytes\",\"data\":\"AQAAAAIAAAADAAAABAAAAAUAAAAGAAAABwAAAAgAAAA=\"},\"shape\":[8],\"dtype\":\"int32\",\"order\":\"little\"}],[\"y\",{\"type\":\"ndarray\",\"array\":{\"type\":\"bytes\",\"data\":\"c+ACAECGAQAunAEA9Z0BAHZcAgDtLgMATXMBAAptAQA=\"},\"shape\":[8],\"dtype\":\"int32\",\"order\":\"little\"}]]}}},\"view\":{\"type\":\"object\",\"name\":\"CDSView\",\"id\":\"p2901\",\"attributes\":{\"filter\":{\"type\":\"object\",\"name\":\"AllIndices\",\"id\":\"p2902\"}}},\"glyph\":{\"type\":\"object\",\"name\":\"Scatter\",\"id\":\"p2897\",\"attributes\":{\"x\":{\"type\":\"field\",\"field\":\"x\"},\"y\":{\"type\":\"field\",\"field\":\"y\"},\"line_color\":{\"type\":\"value\",\"value\":\"blue\"},\"fill_color\":{\"type\":\"value\",\"value\":\"blue\"},\"hatch_color\":{\"type\":\"value\",\"value\":\"blue\"}}},\"nonselection_glyph\":{\"type\":\"object\",\"name\":\"Scatter\",\"id\":\"p2898\",\"attributes\":{\"x\":{\"type\":\"field\",\"field\":\"x\"},\"y\":{\"type\":\"field\",\"field\":\"y\"},\"line_color\":{\"type\":\"value\",\"value\":\"blue\"},\"line_alpha\":{\"type\":\"value\",\"value\":0.1},\"fill_color\":{\"type\":\"value\",\"value\":\"blue\"},\"fill_alpha\":{\"type\":\"value\",\"value\":0.1},\"hatch_color\":{\"type\":\"value\",\"value\":\"blue\"},\"hatch_alpha\":{\"type\":\"value\",\"value\":0.1}}},\"muted_glyph\":{\"type\":\"object\",\"name\":\"Scatter\",\"id\":\"p2899\",\"attributes\":{\"x\":{\"type\":\"field\",\"field\":\"x\"},\"y\":{\"type\":\"field\",\"field\":\"y\"},\"line_color\":{\"type\":\"value\",\"value\":\"blue\"},\"line_alpha\":{\"type\":\"value\",\"value\":0.2},\"fill_color\":{\"type\":\"value\",\"value\":\"blue\"},\"fill_alpha\":{\"type\":\"value\",\"value\":0.2},\"hatch_color\":{\"type\":\"value\",\"value\":\"blue\"},\"hatch_alpha\":{\"type\":\"value\",\"value\":0.2}}}}},{\"type\":\"object\",\"name\":\"GlyphRenderer\",\"id\":\"p2909\",\"attributes\":{\"data_source\":{\"type\":\"object\",\"name\":\"ColumnDataSource\",\"id\":\"p2903\",\"attributes\":{\"selected\":{\"type\":\"object\",\"name\":\"Selection\",\"id\":\"p2904\",\"attributes\":{\"indices\":[],\"line_indices\":[]}},\"selection_policy\":{\"type\":\"object\",\"name\":\"UnionRenderers\",\"id\":\"p2905\"},\"data\":{\"type\":\"map\",\"entries\":[[\"x\",{\"type\":\"ndarray\",\"array\":{\"type\":\"bytes\",\"data\":\"AQAAAAIAAAADAAAABAAAAAUAAAAGAAAABwAAAAgAAAA=\"},\"shape\":[8],\"dtype\":\"int32\",\"order\":\"little\"}],[\"y\",{\"type\":\"ndarray\",\"array\":{\"type\":\"bytes\",\"data\":\"RjACALBHAQAhdwEAh8oBACsnAgB9JAIAzKwCABZDAgA=\"},\"shape\":[8],\"dtype\":\"int32\",\"order\":\"little\"}]]}}},\"view\":{\"type\":\"object\",\"name\":\"CDSView\",\"id\":\"p2910\",\"attributes\":{\"filter\":{\"type\":\"object\",\"name\":\"AllIndices\",\"id\":\"p2911\"}}},\"glyph\":{\"type\":\"object\",\"name\":\"Line\",\"id\":\"p2906\",\"attributes\":{\"x\":{\"type\":\"field\",\"field\":\"x\"},\"y\":{\"type\":\"field\",\"field\":\"y\"},\"line_color\":\"orange\"}},\"nonselection_glyph\":{\"type\":\"object\",\"name\":\"Line\",\"id\":\"p2907\",\"attributes\":{\"x\":{\"type\":\"field\",\"field\":\"x\"},\"y\":{\"type\":\"field\",\"field\":\"y\"},\"line_color\":\"orange\",\"line_alpha\":0.1}},\"muted_glyph\":{\"type\":\"object\",\"name\":\"Line\",\"id\":\"p2908\",\"attributes\":{\"x\":{\"type\":\"field\",\"field\":\"x\"},\"y\":{\"type\":\"field\",\"field\":\"y\"},\"line_color\":\"orange\",\"line_alpha\":0.2}}}},{\"type\":\"object\",\"name\":\"GlyphRenderer\",\"id\":\"p2919\",\"attributes\":{\"data_source\":{\"type\":\"object\",\"name\":\"ColumnDataSource\",\"id\":\"p2913\",\"attributes\":{\"selected\":{\"type\":\"object\",\"name\":\"Selection\",\"id\":\"p2914\",\"attributes\":{\"indices\":[],\"line_indices\":[]}},\"selection_policy\":{\"type\":\"object\",\"name\":\"UnionRenderers\",\"id\":\"p2915\"},\"data\":{\"type\":\"map\",\"entries\":[[\"x\",{\"type\":\"ndarray\",\"array\":{\"type\":\"bytes\",\"data\":\"AQAAAAIAAAADAAAABAAAAAUAAAAGAAAABwAAAAgAAAA=\"},\"shape\":[8],\"dtype\":\"int32\",\"order\":\"little\"}],[\"y\",{\"type\":\"ndarray\",\"array\":{\"type\":\"bytes\",\"data\":\"RjACALBHAQAhdwEAh8oBACsnAgB9JAIAzKwCABZDAgA=\"},\"shape\":[8],\"dtype\":\"int32\",\"order\":\"little\"}]]}}},\"view\":{\"type\":\"object\",\"name\":\"CDSView\",\"id\":\"p2920\",\"attributes\":{\"filter\":{\"type\":\"object\",\"name\":\"AllIndices\",\"id\":\"p2921\"}}},\"glyph\":{\"type\":\"object\",\"name\":\"Scatter\",\"id\":\"p2916\",\"attributes\":{\"x\":{\"type\":\"field\",\"field\":\"x\"},\"y\":{\"type\":\"field\",\"field\":\"y\"},\"line_color\":{\"type\":\"value\",\"value\":\"orange\"},\"fill_color\":{\"type\":\"value\",\"value\":\"orange\"},\"hatch_color\":{\"type\":\"value\",\"value\":\"orange\"}}},\"nonselection_glyph\":{\"type\":\"object\",\"name\":\"Scatter\",\"id\":\"p2917\",\"attributes\":{\"x\":{\"type\":\"field\",\"field\":\"x\"},\"y\":{\"type\":\"field\",\"field\":\"y\"},\"line_color\":{\"type\":\"value\",\"value\":\"orange\"},\"line_alpha\":{\"type\":\"value\",\"value\":0.1},\"fill_color\":{\"type\":\"value\",\"value\":\"orange\"},\"fill_alpha\":{\"type\":\"value\",\"value\":0.1},\"hatch_color\":{\"type\":\"value\",\"value\":\"orange\"},\"hatch_alpha\":{\"type\":\"value\",\"value\":0.1}}},\"muted_glyph\":{\"type\":\"object\",\"name\":\"Scatter\",\"id\":\"p2918\",\"attributes\":{\"x\":{\"type\":\"field\",\"field\":\"x\"},\"y\":{\"type\":\"field\",\"field\":\"y\"},\"line_color\":{\"type\":\"value\",\"value\":\"orange\"},\"line_alpha\":{\"type\":\"value\",\"value\":0.2},\"fill_color\":{\"type\":\"value\",\"value\":\"orange\"},\"fill_alpha\":{\"type\":\"value\",\"value\":0.2},\"hatch_color\":{\"type\":\"value\",\"value\":\"orange\"},\"hatch_alpha\":{\"type\":\"value\",\"value\":0.2}}}}},{\"type\":\"object\",\"name\":\"GlyphRenderer\",\"id\":\"p2928\",\"attributes\":{\"data_source\":{\"type\":\"object\",\"name\":\"ColumnDataSource\",\"id\":\"p2922\",\"attributes\":{\"selected\":{\"type\":\"object\",\"name\":\"Selection\",\"id\":\"p2923\",\"attributes\":{\"indices\":[],\"line_indices\":[]}},\"selection_policy\":{\"type\":\"object\",\"name\":\"UnionRenderers\",\"id\":\"p2924\"},\"data\":{\"type\":\"map\",\"entries\":[[\"x\",{\"type\":\"ndarray\",\"array\":{\"type\":\"bytes\",\"data\":\"AQAAAAIAAAADAAAABAAAAAUAAAAGAAAABwAAAAgAAAA=\"},\"shape\":[8],\"dtype\":\"int32\",\"order\":\"little\"}],[\"y\",{\"type\":\"ndarray\",\"array\":{\"type\":\"bytes\",\"data\":\"SOYBAMUEAgAMHwIAfp0BAKVkAQC2iwIAGEMBAIilAQA=\"},\"shape\":[8],\"dtype\":\"int32\",\"order\":\"little\"}]]}}},\"view\":{\"type\":\"object\",\"name\":\"CDSView\",\"id\":\"p2929\",\"attributes\":{\"filter\":{\"type\":\"object\",\"name\":\"AllIndices\",\"id\":\"p2930\"}}},\"glyph\":{\"type\":\"object\",\"name\":\"Line\",\"id\":\"p2925\",\"attributes\":{\"x\":{\"type\":\"field\",\"field\":\"x\"},\"y\":{\"type\":\"field\",\"field\":\"y\"},\"line_color\":\"brown\"}},\"nonselection_glyph\":{\"type\":\"object\",\"name\":\"Line\",\"id\":\"p2926\",\"attributes\":{\"x\":{\"type\":\"field\",\"field\":\"x\"},\"y\":{\"type\":\"field\",\"field\":\"y\"},\"line_color\":\"brown\",\"line_alpha\":0.1}},\"muted_glyph\":{\"type\":\"object\",\"name\":\"Line\",\"id\":\"p2927\",\"attributes\":{\"x\":{\"type\":\"field\",\"field\":\"x\"},\"y\":{\"type\":\"field\",\"field\":\"y\"},\"line_color\":\"brown\",\"line_alpha\":0.2}}}},{\"type\":\"object\",\"name\":\"GlyphRenderer\",\"id\":\"p2938\",\"attributes\":{\"data_source\":{\"type\":\"object\",\"name\":\"ColumnDataSource\",\"id\":\"p2932\",\"attributes\":{\"selected\":{\"type\":\"object\",\"name\":\"Selection\",\"id\":\"p2933\",\"attributes\":{\"indices\":[],\"line_indices\":[]}},\"selection_policy\":{\"type\":\"object\",\"name\":\"UnionRenderers\",\"id\":\"p2934\"},\"data\":{\"type\":\"map\",\"entries\":[[\"x\",{\"type\":\"ndarray\",\"array\":{\"type\":\"bytes\",\"data\":\"AQAAAAIAAAADAAAABAAAAAUAAAAGAAAABwAAAAgAAAA=\"},\"shape\":[8],\"dtype\":\"int32\",\"order\":\"little\"}],[\"y\",{\"type\":\"ndarray\",\"array\":{\"type\":\"bytes\",\"data\":\"SOYBAMUEAgAMHwIAfp0BAKVkAQC2iwIAGEMBAIilAQA=\"},\"shape\":[8],\"dtype\":\"int32\",\"order\":\"little\"}]]}}},\"view\":{\"type\":\"object\",\"name\":\"CDSView\",\"id\":\"p2939\",\"attributes\":{\"filter\":{\"type\":\"object\",\"name\":\"AllIndices\",\"id\":\"p2940\"}}},\"glyph\":{\"type\":\"object\",\"name\":\"Scatter\",\"id\":\"p2935\",\"attributes\":{\"x\":{\"type\":\"field\",\"field\":\"x\"},\"y\":{\"type\":\"field\",\"field\":\"y\"},\"line_color\":{\"type\":\"value\",\"value\":\"orange\"},\"fill_color\":{\"type\":\"value\",\"value\":\"orange\"},\"hatch_color\":{\"type\":\"value\",\"value\":\"orange\"}}},\"nonselection_glyph\":{\"type\":\"object\",\"name\":\"Scatter\",\"id\":\"p2936\",\"attributes\":{\"x\":{\"type\":\"field\",\"field\":\"x\"},\"y\":{\"type\":\"field\",\"field\":\"y\"},\"line_color\":{\"type\":\"value\",\"value\":\"orange\"},\"line_alpha\":{\"type\":\"value\",\"value\":0.1},\"fill_color\":{\"type\":\"value\",\"value\":\"orange\"},\"fill_alpha\":{\"type\":\"value\",\"value\":0.1},\"hatch_color\":{\"type\":\"value\",\"value\":\"orange\"},\"hatch_alpha\":{\"type\":\"value\",\"value\":0.1}}},\"muted_glyph\":{\"type\":\"object\",\"name\":\"Scatter\",\"id\":\"p2937\",\"attributes\":{\"x\":{\"type\":\"field\",\"field\":\"x\"},\"y\":{\"type\":\"field\",\"field\":\"y\"},\"line_color\":{\"type\":\"value\",\"value\":\"orange\"},\"line_alpha\":{\"type\":\"value\",\"value\":0.2},\"fill_color\":{\"type\":\"value\",\"value\":\"orange\"},\"fill_alpha\":{\"type\":\"value\",\"value\":0.2},\"hatch_color\":{\"type\":\"value\",\"value\":\"orange\"},\"hatch_alpha\":{\"type\":\"value\",\"value\":0.2}}}}},{\"type\":\"object\",\"name\":\"GlyphRenderer\",\"id\":\"p2947\",\"attributes\":{\"data_source\":{\"type\":\"object\",\"name\":\"ColumnDataSource\",\"id\":\"p2941\",\"attributes\":{\"selected\":{\"type\":\"object\",\"name\":\"Selection\",\"id\":\"p2942\",\"attributes\":{\"indices\":[],\"line_indices\":[]}},\"selection_policy\":{\"type\":\"object\",\"name\":\"UnionRenderers\",\"id\":\"p2943\"},\"data\":{\"type\":\"map\",\"entries\":[[\"x\",{\"type\":\"ndarray\",\"array\":{\"type\":\"bytes\",\"data\":\"AQAAAAIAAAADAAAABAAAAAUAAAAGAAAABwAAAAgAAAA=\"},\"shape\":[8],\"dtype\":\"int32\",\"order\":\"little\"}],[\"y\",{\"type\":\"ndarray\",\"array\":{\"type\":\"bytes\",\"data\":\"9KYBAD7eAQCYvQEArg8CAOpiAgBRxgEAaHECADrfAQA=\"},\"shape\":[8],\"dtype\":\"int32\",\"order\":\"little\"}]]}}},\"view\":{\"type\":\"object\",\"name\":\"CDSView\",\"id\":\"p2948\",\"attributes\":{\"filter\":{\"type\":\"object\",\"name\":\"AllIndices\",\"id\":\"p2949\"}}},\"glyph\":{\"type\":\"object\",\"name\":\"Line\",\"id\":\"p2944\",\"attributes\":{\"x\":{\"type\":\"field\",\"field\":\"x\"},\"y\":{\"type\":\"field\",\"field\":\"y\"},\"line_color\":\"purple\"}},\"nonselection_glyph\":{\"type\":\"object\",\"name\":\"Line\",\"id\":\"p2945\",\"attributes\":{\"x\":{\"type\":\"field\",\"field\":\"x\"},\"y\":{\"type\":\"field\",\"field\":\"y\"},\"line_color\":\"purple\",\"line_alpha\":0.1}},\"muted_glyph\":{\"type\":\"object\",\"name\":\"Line\",\"id\":\"p2946\",\"attributes\":{\"x\":{\"type\":\"field\",\"field\":\"x\"},\"y\":{\"type\":\"field\",\"field\":\"y\"},\"line_color\":\"purple\",\"line_alpha\":0.2}}}},{\"type\":\"object\",\"name\":\"GlyphRenderer\",\"id\":\"p2957\",\"attributes\":{\"data_source\":{\"type\":\"object\",\"name\":\"ColumnDataSource\",\"id\":\"p2951\",\"attributes\":{\"selected\":{\"type\":\"object\",\"name\":\"Selection\",\"id\":\"p2952\",\"attributes\":{\"indices\":[],\"line_indices\":[]}},\"selection_policy\":{\"type\":\"object\",\"name\":\"UnionRenderers\",\"id\":\"p2953\"},\"data\":{\"type\":\"map\",\"entries\":[[\"x\",{\"type\":\"ndarray\",\"array\":{\"type\":\"bytes\",\"data\":\"AQAAAAIAAAADAAAABAAAAAUAAAAGAAAABwAAAAgAAAA=\"},\"shape\":[8],\"dtype\":\"int32\",\"order\":\"little\"}],[\"y\",{\"type\":\"ndarray\",\"array\":{\"type\":\"bytes\",\"data\":\"9KYBAD7eAQCYvQEArg8CAOpiAgBRxgEAaHECADrfAQA=\"},\"shape\":[8],\"dtype\":\"int32\",\"order\":\"little\"}]]}}},\"view\":{\"type\":\"object\",\"name\":\"CDSView\",\"id\":\"p2958\",\"attributes\":{\"filter\":{\"type\":\"object\",\"name\":\"AllIndices\",\"id\":\"p2959\"}}},\"glyph\":{\"type\":\"object\",\"name\":\"Scatter\",\"id\":\"p2954\",\"attributes\":{\"x\":{\"type\":\"field\",\"field\":\"x\"},\"y\":{\"type\":\"field\",\"field\":\"y\"},\"line_color\":{\"type\":\"value\",\"value\":\"purple\"},\"fill_color\":{\"type\":\"value\",\"value\":\"purple\"},\"hatch_color\":{\"type\":\"value\",\"value\":\"purple\"}}},\"nonselection_glyph\":{\"type\":\"object\",\"name\":\"Scatter\",\"id\":\"p2955\",\"attributes\":{\"x\":{\"type\":\"field\",\"field\":\"x\"},\"y\":{\"type\":\"field\",\"field\":\"y\"},\"line_color\":{\"type\":\"value\",\"value\":\"purple\"},\"line_alpha\":{\"type\":\"value\",\"value\":0.1},\"fill_color\":{\"type\":\"value\",\"value\":\"purple\"},\"fill_alpha\":{\"type\":\"value\",\"value\":0.1},\"hatch_color\":{\"type\":\"value\",\"value\":\"purple\"},\"hatch_alpha\":{\"type\":\"value\",\"value\":0.1}}},\"muted_glyph\":{\"type\":\"object\",\"name\":\"Scatter\",\"id\":\"p2956\",\"attributes\":{\"x\":{\"type\":\"field\",\"field\":\"x\"},\"y\":{\"type\":\"field\",\"field\":\"y\"},\"line_color\":{\"type\":\"value\",\"value\":\"purple\"},\"line_alpha\":{\"type\":\"value\",\"value\":0.2},\"fill_color\":{\"type\":\"value\",\"value\":\"purple\"},\"fill_alpha\":{\"type\":\"value\",\"value\":0.2},\"hatch_color\":{\"type\":\"value\",\"value\":\"purple\"},\"hatch_alpha\":{\"type\":\"value\",\"value\":0.2}}}}}],\"toolbar\":{\"type\":\"object\",\"name\":\"Toolbar\",\"id\":\"p2820\",\"attributes\":{\"tools\":[{\"type\":\"object\",\"name\":\"PanTool\",\"id\":\"p2833\"},{\"type\":\"object\",\"name\":\"BoxZoomTool\",\"id\":\"p2834\",\"attributes\":{\"overlay\":{\"type\":\"object\",\"name\":\"BoxAnnotation\",\"id\":\"p2835\",\"attributes\":{\"syncable\":false,\"line_color\":\"black\",\"line_alpha\":1.0,\"line_width\":2,\"line_dash\":[4,4],\"fill_color\":\"lightgrey\",\"fill_alpha\":0.5,\"level\":\"overlay\",\"visible\":false,\"left\":{\"type\":\"number\",\"value\":\"nan\"},\"right\":{\"type\":\"number\",\"value\":\"nan\"},\"top\":{\"type\":\"number\",\"value\":\"nan\"},\"bottom\":{\"type\":\"number\",\"value\":\"nan\"},\"left_units\":\"canvas\",\"right_units\":\"canvas\",\"top_units\":\"canvas\",\"bottom_units\":\"canvas\",\"handles\":{\"type\":\"object\",\"name\":\"BoxInteractionHandles\",\"id\":\"p2841\",\"attributes\":{\"all\":{\"type\":\"object\",\"name\":\"AreaVisuals\",\"id\":\"p2840\",\"attributes\":{\"fill_color\":\"white\",\"hover_fill_color\":\"lightgray\"}}}}}}}},{\"type\":\"object\",\"name\":\"ResetTool\",\"id\":\"p2842\"},{\"type\":\"object\",\"name\":\"SaveTool\",\"id\":\"p2843\"},{\"type\":\"object\",\"name\":\"HoverTool\",\"id\":\"p2844\",\"attributes\":{\"renderers\":\"auto\"}}]}},\"toolbar_location\":\"above\",\"left\":[{\"type\":\"object\",\"name\":\"LinearAxis\",\"id\":\"p2828\",\"attributes\":{\"ticker\":{\"type\":\"object\",\"name\":\"BasicTicker\",\"id\":\"p2829\",\"attributes\":{\"mantissas\":[1,2,5]}},\"formatter\":{\"type\":\"object\",\"name\":\"BasicTickFormatter\",\"id\":\"p2830\"},\"axis_label\":\"Sales Amount\",\"major_label_policy\":{\"type\":\"object\",\"name\":\"AllLabels\",\"id\":\"p2831\"}}}],\"below\":[{\"type\":\"object\",\"name\":\"LinearAxis\",\"id\":\"p2823\",\"attributes\":{\"ticker\":{\"type\":\"object\",\"name\":\"BasicTicker\",\"id\":\"p2824\",\"attributes\":{\"mantissas\":[1,2,5]}},\"formatter\":{\"type\":\"object\",\"name\":\"BasicTickFormatter\",\"id\":\"p2825\"},\"axis_label\":\"Month\",\"major_label_policy\":{\"type\":\"object\",\"name\":\"AllLabels\",\"id\":\"p2826\"}}}],\"center\":[{\"type\":\"object\",\"name\":\"Grid\",\"id\":\"p2827\",\"attributes\":{\"axis\":{\"id\":\"p2823\"}}},{\"type\":\"object\",\"name\":\"Grid\",\"id\":\"p2832\",\"attributes\":{\"dimension\":1,\"axis\":{\"id\":\"p2828\"}}},{\"type\":\"object\",\"name\":\"Legend\",\"id\":\"p2854\",\"attributes\":{\"click_policy\":\"mute\",\"items\":[{\"type\":\"object\",\"name\":\"LegendItem\",\"id\":\"p2855\",\"attributes\":{\"label\":{\"type\":\"value\",\"value\":\"Australia\"},\"renderers\":[{\"id\":\"p2851\"}]}},{\"type\":\"object\",\"name\":\"LegendItem\",\"id\":\"p2874\",\"attributes\":{\"label\":{\"type\":\"value\",\"value\":\"Canada\"},\"renderers\":[{\"id\":\"p2871\"}]}},{\"type\":\"object\",\"name\":\"LegendItem\",\"id\":\"p2893\",\"attributes\":{\"label\":{\"type\":\"value\",\"value\":\"UK\"},\"renderers\":[{\"id\":\"p2890\"}]}},{\"type\":\"object\",\"name\":\"LegendItem\",\"id\":\"p2912\",\"attributes\":{\"label\":{\"type\":\"value\",\"value\":\"India\"},\"renderers\":[{\"id\":\"p2909\"}]}},{\"type\":\"object\",\"name\":\"LegendItem\",\"id\":\"p2931\",\"attributes\":{\"label\":{\"type\":\"value\",\"value\":\"New Zealand\"},\"renderers\":[{\"id\":\"p2928\"},{\"id\":\"p2938\"}]}},{\"type\":\"object\",\"name\":\"LegendItem\",\"id\":\"p2950\",\"attributes\":{\"label\":{\"type\":\"value\",\"value\":\"USA\"},\"renderers\":[{\"id\":\"p2947\"}]}}]}}]}}]}};\n  const render_items = [{\"docid\":\"014b407f-57c3-403a-a6e1-524174edcfc8\",\"roots\":{\"p2811\":\"e0f71493-6874-4107-9ef6-ca6c7bdba8c7\"},\"root_ids\":[\"p2811\"]}];\n  void root.Bokeh.embed.embed_items_notebook(docs_json, render_items);\n  }\n  if (root.Bokeh !== undefined) {\n    embed_document(root);\n  } else {\n    let attempts = 0;\n    const timer = setInterval(function(root) {\n      if (root.Bokeh !== undefined) {\n        clearInterval(timer);\n        embed_document(root);\n      } else {\n        attempts++;\n        if (attempts > 100) {\n          clearInterval(timer);\n          console.log(\"Bokeh: ERROR: Unable to run BokehJS code because BokehJS library is missing\");\n        }\n      }\n    }, 10, root)\n  }\n})(window);",
      "application/vnd.bokehjs_exec.v0+json": ""
     },
     "metadata": {
      "application/vnd.bokehjs_exec.v0+json": {
       "id": "p2811"
      }
     },
     "output_type": "display_data"
    }
   ],
   "source": [
    "# grouped = df.groupby([\"Month\",\"Country\"])[\"Amount\"].sum()\n",
    "# print(grouped.index)\n",
    "\n",
    "p = figure( height=600, width=800,\n",
    "           title=\"Monthly Sales by Country\",\n",
    "             x_axis_label=\"Month\", y_axis_label=\"Sales Amount\",\n",
    "             toolbar_location=\"above\",\n",
    "           tools=\"pan,box_zoom,reset,save,hover\")\n",
    "\n",
    "australia_amount = df[df[\"Country\"] == \"Australia\"].groupby(\"Month\")[\"Amount\"].sum()\n",
    "canada_amount = df[df[\"Country\"] == \"Canada\"].groupby(\"Month\")[\"Amount\"].sum()\n",
    "uk_amount = df[df[\"Country\"] == \"UK\"].groupby(\"Month\")[\"Amount\"].sum()\n",
    "india_amount = df[df[\"Country\"] == \"India\"].groupby(\"Month\")[\"Amount\"].sum()\n",
    "usa_amount = df[df[\"Country\"] == \"USA\"].groupby(\"Month\")[\"Amount\"].sum()\n",
    "new_zealand_amount = df[df[\"Country\"] == \"New Zealand\"].groupby(\"Month\")[\"Amount\"].sum()\n",
    "\n",
    "p.line(x=australia_amount.index, y=australia_amount,legend_label=\"Australia\",color='green')\n",
    "p.scatter(x=australia_amount.index,y=australia_amount,color='green')\n",
    "p.line(x=canada_amount.index, y=canada_amount,legend_label=\"Canada\",color='red')\n",
    "p.scatter(x=canada_amount.index,y=canada_amount,color='red')\n",
    "p.line(x=uk_amount.index, y=uk_amount,legend_label=\"UK\",color='blue')\n",
    "p.scatter(x=uk_amount.index,y=uk_amount,color='blue')\n",
    "p.line(x=india_amount.index, y=india_amount,legend_label=\"India\",color='orange')\n",
    "p.scatter(x=india_amount.index,y=india_amount,color='orange',legend_label=\"India\")\n",
    "p.line(x=new_zealand_amount.index, y=new_zealand_amount,legend_label=\"New Zealand\",color='brown')\n",
    "p.scatter(x=new_zealand_amount.index,y=new_zealand_amount,color='brown', legend_label=\"New Zealand\")\n",
    "\n",
    "\n",
    "\n",
    "p.line(x=usa_amount.index, y=usa_amount,legend_label=\"USA\",color='purple')\n",
    "p.scatter(x=usa_amount.index,y=usa_amount,color='purple')\n",
    "\n",
    "\n",
    "# Legend\n",
    "# p.legend.orientation = \"horizontal\"\n",
    "# p.legend.location = \"top_center\"\n",
    "\n",
    "# muting glyphs\n",
    "p.legend.click_policy=\"mute\"\n",
    "# p.line(x=)\n",
    "show(p)\n",
    "# TODO: Do a bokeh graph\n",
    "# p=figure(width=1000,height=500, title=)"
   ]
  },
  {
   "cell_type": "markdown",
   "id": "4a536edc",
   "metadata": {},
   "source": [
    "### c. Draw more graphs/interactive graphs to explain your problem definition in detail."
   ]
  },
  {
   "cell_type": "markdown",
   "id": "1c63ab6f",
   "metadata": {},
   "source": [
    "### Which chocolate products generate the highest revenue?\n"
   ]
  },
  {
   "cell_type": "code",
   "execution_count": 30,
   "id": "f3195cf2",
   "metadata": {},
   "outputs": [
    {
     "data": {
      "image/png": "[encoded data removed]",
      "text/plain": [
       "<Figure size 640x480 with 1 Axes>"
      ]
     },
     "metadata": {},
     "output_type": "display_data"
    }
   ],
   "source": [
    "# Plot a bar chart with chocolate colour\n",
    "plt.bar(x=top3_rev.index, height=top3_rev, color=\"chocolate\")\n",
    "\n",
    "# Set the title\n",
    "plt.title(\"Top 3 Products that Generate the Highest Revenue\")\n",
    "\n",
    "# Set the x-axis label\n",
    "plt.xlabel(\"Product\")\n",
    "\n",
    "# Set the y-axis label\n",
    "plt.ylabel(\"Amount\")\n",
    "\n",
    "# Show the plot\n",
    "plt.show()"
   ]
  },
  {
   "cell_type": "markdown",
   "id": "8d04da31",
   "metadata": {},
   "source": [
    "### Which countries contribute most to the total sales?"
   ]
  },
  {
   "cell_type": "code",
   "execution_count": 31,
   "id": "cd2296b3",
   "metadata": {},
   "outputs": [
    {
     "data": {
      "image/png": "[encoded data removed]",
      "text/plain": [
       "<Figure size 640x480 with 1 Axes>"
      ]
     },
     "metadata": {},
     "output_type": "display_data"
    }
   ],
   "source": [
    "# Plot a bar chart with green colour\n",
    "plt.bar(x=top3_country_sales.index, height=top3_country_sales,color=\"g\")\n",
    "\n",
    "# Set the title\n",
    "plt.title(\"Top 3 Countries Sales\")\n",
    "\n",
    "# Set the x-axis label\n",
    "plt.xlabel(\"Country\")\n",
    "\n",
    "# Set the y-axis label\n",
    "plt.ylabel(\"Amount\")\n",
    "\n",
    "# Show the plot\n",
    "plt.show()"
   ]
  },
  {
   "cell_type": "markdown",
   "id": "dce14b20",
   "metadata": {},
   "source": [
    "### Do sales vary significantly across different months?"
   ]
  },
  {
   "cell_type": "code",
   "execution_count": 32,
   "id": "a0811fb1",
   "metadata": {},
   "outputs": [
    {
     "data": {
      "image/png": "[encoded data removed]",
      "text/plain": [
       "<Figure size 640x480 with 1 Axes>"
      ]
     },
     "metadata": {},
     "output_type": "display_data"
    }
   ],
   "source": [
    "# Plot a line graph\n",
    "plt.plot(amount_according_month.index, amount_according_month.values, color='red')\n",
    "\n",
    "# Set the title\n",
    "plt.title(\"Sales according to the Month\")\n",
    "\n",
    "# Set the x-axis label\n",
    "plt.xlabel(xlabel=\"Month\")\n",
    "\n",
    "# Set the y-axis label\n",
    "plt.ylabel(ylabel=\"Amount\")\n",
    "\n",
    "# Show the plot\n",
    "plt.show()\n"
   ]
  },
  {
   "cell_type": "markdown",
   "id": "06e8ea80",
   "metadata": {},
   "source": [
    "Yes, sales do vary significantly across different months. From Month 1 to Month 2, there's a sharp drop in sales. Then there is a small recovery in Month 3. Another drop happens in Month 4, reaching the lowest point. Sales rise sharply again in Month 5 and peak around Month 6. After Month 6, sales decline steadily into Month 8.\n",
    "\n"
   ]
  },
  {
   "cell_type": "code",
   "execution_count": null,
   "id": "7b2ea44b",
   "metadata": {},
   "outputs": [],
   "source": []
  }
 ],
 "metadata": {
  "kernelspec": {
   "display_name": "base",
   "language": "python",
   "name": "python3"
  },
  "language_info": {
   "codemirror_mode": {
    "name": "ipython",
    "version": 3
   },
   "file_extension": ".py",
   "mimetype": "text/x-python",
   "name": "python",
   "nbconvert_exporter": "python",
   "pygments_lexer": "ipython3",
   "version": "3.12.7"
  }
 },
 "nbformat": 4,
 "nbformat_minor": 5
}
