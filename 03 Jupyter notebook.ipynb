{
 "cells": [
  {
   "cell_type": "markdown",
   "id": "93b2906a-9bfd-4173-a00c-e5772683784d",
   "metadata": {},
   "source": [
    "# Assignment"
   ]
  },
  {
   "cell_type": "code",
   "execution_count": null,
   "id": "0021070a-1330-4056-9b54-9fb119bfff69",
   "metadata": {},
   "outputs": [],
   "source": [
    "# import libraries\n",
    "import pandas as pd\n",
    "import matplotlib.pyplot as plt\n",
    "\n",
    "# read \"Chocolate_Sales.csv\"\n",
    "df = pd.read_csv(\"Chocolate_Sales.csv\")"
   ]
  },
  {
   "cell_type": "markdown",
   "id": "73f726f2",
   "metadata": {},
   "source": [
    "# Data Cleaning & Data Processing"
   ]
  },
  {
   "cell_type": "code",
   "execution_count": null,
   "id": "d1be5389",
   "metadata": {},
   "outputs": [
    {
     "data": {
      "text/plain": [
       "Sales Person     0\n",
       "Country          0\n",
       "Product          0\n",
       "Date             0\n",
       "Amount           0\n",
       "Boxes Shipped    0\n",
       "dtype: int64"
      ]
     },
     "execution_count": 128,
     "metadata": {},
     "output_type": "execute_result"
    }
   ],
   "source": [
    "# find the sum of the null row \n",
    "df.isnull().sum()\n",
    "# since it is zero for each column, therefore there is no empty data"
   ]
  },
  {
   "cell_type": "code",
   "execution_count": null,
   "id": "fd0c4fa4",
   "metadata": {},
   "outputs": [
    {
     "ename": "NameError",
     "evalue": "name 'df' is not defined",
     "output_type": "error",
     "traceback": [
      "\u001b[1;31m---------------------------------------------------------------------------\u001b[0m",
      "\u001b[1;31mNameError\u001b[0m                                 Traceback (most recent call last)",
      "Cell \u001b[1;32mIn[1], line 1\u001b[0m\n\u001b[1;32m----> 1\u001b[0m df\u001b[38;5;241m.\u001b[39mduplicated()\u001b[38;5;241m.\u001b[39msum()\n",
      "\u001b[1;31mNameError\u001b[0m: name 'df' is not defined"
     ]
    }
   ],
   "source": [
    "# find the sum of the duplicated row\n",
    "df.duplicated().sum()\n",
    "#Since there is no duplicate data, therefore there is no need to remove duplicate"
   ]
  },
  {
   "cell_type": "code",
   "execution_count": null,
   "id": "79f2eaa2",
   "metadata": {},
   "outputs": [],
   "source": [
    "# Format the date and change its type into datetime\n",
    "df[\"Date\"] = pd.to_datetime(df[\"Date\"], format='%d-%b-%y')"
   ]
  },
  {
   "cell_type": "code",
   "execution_count": null,
   "id": "4a021dd4",
   "metadata": {},
   "outputs": [],
   "source": [
    "# remove the dollar sign infront of the amount and the ',' in the dollar sign\n",
    "def removeDollarSign(money):\n",
    "    return money.replace(\"$\", \"\").replace(\",\",\"\")\n",
    "\n",
    "# Change its type into numeric after removing the dollar sign\n",
    "df[\"Amount\"] = pd.to_numeric(df[\"Amount\"].apply(removeDollarSign))"
   ]
  },
  {
   "cell_type": "code",
   "execution_count": null,
   "id": "84885b61",
   "metadata": {},
   "outputs": [
    {
     "name": "stdout",
     "output_type": "stream",
     "text": [
      "[Amount] that is negative value:  0\n",
      "[Boxes Shipped] that is negative value:  0\n"
     ]
    }
   ],
   "source": [
    "# Check whether there is amount that is negative value\n",
    "print(\"[Amount] that is negative value: \",df[df[\"Amount\"] < 0][\"Amount\"].count())\n",
    "#There is no Amount that is negative number\n",
    "\n",
    "# Check whether there is boxes shipped that is negative value\n",
    "print(\"[Boxes Shipped] that is negative value: \",df[df[\"Boxes Shipped\"] < 0][\"Boxes Shipped\"].count())\n",
    "#There is no Boxes Shipped that is negative number"
   ]
  },
  {
   "cell_type": "code",
   "execution_count": null,
   "id": "ce808998",
   "metadata": {},
   "outputs": [
    {
     "data": {
      "text/html": [
       "<div>\n",
       "<style scoped>\n",
       "    .dataframe tbody tr th:only-of-type {\n",
       "        vertical-align: middle;\n",
       "    }\n",
       "\n",
       "    .dataframe tbody tr th {\n",
       "        vertical-align: top;\n",
       "    }\n",
       "\n",
       "    .dataframe thead th {\n",
       "        text-align: right;\n",
       "    }\n",
       "</style>\n",
       "<table border=\"1\" class=\"dataframe\">\n",
       "  <thead>\n",
       "    <tr style=\"text-align: right;\">\n",
       "      <th></th>\n",
       "      <th>Sales Person</th>\n",
       "      <th>Country</th>\n",
       "      <th>Product</th>\n",
       "      <th>Date</th>\n",
       "      <th>Amount</th>\n",
       "      <th>Boxes Shipped</th>\n",
       "      <th>Month</th>\n",
       "    </tr>\n",
       "  </thead>\n",
       "  <tbody>\n",
       "    <tr>\n",
       "      <th>0</th>\n",
       "      <td>Jehu Rudeforth</td>\n",
       "      <td>UK</td>\n",
       "      <td>Mint Chip Choco</td>\n",
       "      <td>2022-01-04</td>\n",
       "      <td>5320</td>\n",
       "      <td>180</td>\n",
       "      <td>1</td>\n",
       "    </tr>\n",
       "    <tr>\n",
       "      <th>1</th>\n",
       "      <td>Van Tuxwell</td>\n",
       "      <td>India</td>\n",
       "      <td>85% Dark Bars</td>\n",
       "      <td>2022-08-01</td>\n",
       "      <td>7896</td>\n",
       "      <td>94</td>\n",
       "      <td>8</td>\n",
       "    </tr>\n",
       "    <tr>\n",
       "      <th>2</th>\n",
       "      <td>Gigi Bohling</td>\n",
       "      <td>India</td>\n",
       "      <td>Peanut Butter Cubes</td>\n",
       "      <td>2022-07-07</td>\n",
       "      <td>4501</td>\n",
       "      <td>91</td>\n",
       "      <td>7</td>\n",
       "    </tr>\n",
       "    <tr>\n",
       "      <th>3</th>\n",
       "      <td>Jan Morforth</td>\n",
       "      <td>Australia</td>\n",
       "      <td>Peanut Butter Cubes</td>\n",
       "      <td>2022-04-27</td>\n",
       "      <td>12726</td>\n",
       "      <td>342</td>\n",
       "      <td>4</td>\n",
       "    </tr>\n",
       "    <tr>\n",
       "      <th>4</th>\n",
       "      <td>Jehu Rudeforth</td>\n",
       "      <td>UK</td>\n",
       "      <td>Peanut Butter Cubes</td>\n",
       "      <td>2022-02-24</td>\n",
       "      <td>13685</td>\n",
       "      <td>184</td>\n",
       "      <td>2</td>\n",
       "    </tr>\n",
       "  </tbody>\n",
       "</table>\n",
       "</div>"
      ],
      "text/plain": [
       "     Sales Person    Country              Product       Date  Amount  \\\n",
       "0  Jehu Rudeforth         UK      Mint Chip Choco 2022-01-04    5320   \n",
       "1     Van Tuxwell      India        85% Dark Bars 2022-08-01    7896   \n",
       "2    Gigi Bohling      India  Peanut Butter Cubes 2022-07-07    4501   \n",
       "3    Jan Morforth  Australia  Peanut Butter Cubes 2022-04-27   12726   \n",
       "4  Jehu Rudeforth         UK  Peanut Butter Cubes 2022-02-24   13685   \n",
       "\n",
       "   Boxes Shipped  Month  \n",
       "0            180      1  \n",
       "1             94      8  \n",
       "2             91      7  \n",
       "3            342      4  \n",
       "4            184      2  "
      ]
     },
     "execution_count": 166,
     "metadata": {},
     "output_type": "execute_result"
    }
   ],
   "source": [
    "# Create another column called \"Month\" for later use\n",
    "df[\"Month\"] = df[\"Date\"].dt.month\n",
    "df.head(5)"
   ]
  },
  {
   "cell_type": "markdown",
   "id": "113e7128",
   "metadata": {},
   "source": [
    "# Exploratory Data Analysis (EDA)"
   ]
  },
  {
   "cell_type": "markdown",
   "id": "4132f147",
   "metadata": {},
   "source": [
    "### a. The general information about the entire data set Chocolate_Sales.csv "
   ]
  },
  {
   "cell_type": "code",
   "execution_count": 134,
   "id": "6a90ae96",
   "metadata": {},
   "outputs": [
    {
     "data": {
      "text/html": [
       "<div>\n",
       "<style scoped>\n",
       "    .dataframe tbody tr th:only-of-type {\n",
       "        vertical-align: middle;\n",
       "    }\n",
       "\n",
       "    .dataframe tbody tr th {\n",
       "        vertical-align: top;\n",
       "    }\n",
       "\n",
       "    .dataframe thead th {\n",
       "        text-align: right;\n",
       "    }\n",
       "</style>\n",
       "<table border=\"1\" class=\"dataframe\">\n",
       "  <thead>\n",
       "    <tr style=\"text-align: right;\">\n",
       "      <th></th>\n",
       "      <th>Sales Person</th>\n",
       "      <th>Country</th>\n",
       "      <th>Product</th>\n",
       "      <th>Date</th>\n",
       "      <th>Amount</th>\n",
       "      <th>Boxes Shipped</th>\n",
       "    </tr>\n",
       "  </thead>\n",
       "  <tbody>\n",
       "    <tr>\n",
       "      <th>0</th>\n",
       "      <td>Jehu Rudeforth</td>\n",
       "      <td>UK</td>\n",
       "      <td>Mint Chip Choco</td>\n",
       "      <td>2022-01-04</td>\n",
       "      <td>5320</td>\n",
       "      <td>180</td>\n",
       "    </tr>\n",
       "    <tr>\n",
       "      <th>1</th>\n",
       "      <td>Van Tuxwell</td>\n",
       "      <td>India</td>\n",
       "      <td>85% Dark Bars</td>\n",
       "      <td>2022-08-01</td>\n",
       "      <td>7896</td>\n",
       "      <td>94</td>\n",
       "    </tr>\n",
       "    <tr>\n",
       "      <th>2</th>\n",
       "      <td>Gigi Bohling</td>\n",
       "      <td>India</td>\n",
       "      <td>Peanut Butter Cubes</td>\n",
       "      <td>2022-07-07</td>\n",
       "      <td>4501</td>\n",
       "      <td>91</td>\n",
       "    </tr>\n",
       "    <tr>\n",
       "      <th>3</th>\n",
       "      <td>Jan Morforth</td>\n",
       "      <td>Australia</td>\n",
       "      <td>Peanut Butter Cubes</td>\n",
       "      <td>2022-04-27</td>\n",
       "      <td>12726</td>\n",
       "      <td>342</td>\n",
       "    </tr>\n",
       "    <tr>\n",
       "      <th>4</th>\n",
       "      <td>Jehu Rudeforth</td>\n",
       "      <td>UK</td>\n",
       "      <td>Peanut Butter Cubes</td>\n",
       "      <td>2022-02-24</td>\n",
       "      <td>13685</td>\n",
       "      <td>184</td>\n",
       "    </tr>\n",
       "  </tbody>\n",
       "</table>\n",
       "</div>"
      ],
      "text/plain": [
       "     Sales Person    Country              Product       Date  Amount  \\\n",
       "0  Jehu Rudeforth         UK      Mint Chip Choco 2022-01-04    5320   \n",
       "1     Van Tuxwell      India        85% Dark Bars 2022-08-01    7896   \n",
       "2    Gigi Bohling      India  Peanut Butter Cubes 2022-07-07    4501   \n",
       "3    Jan Morforth  Australia  Peanut Butter Cubes 2022-04-27   12726   \n",
       "4  Jehu Rudeforth         UK  Peanut Butter Cubes 2022-02-24   13685   \n",
       "\n",
       "   Boxes Shipped  \n",
       "0            180  \n",
       "1             94  \n",
       "2             91  \n",
       "3            342  \n",
       "4            184  "
      ]
     },
     "execution_count": 134,
     "metadata": {},
     "output_type": "execute_result"
    }
   ],
   "source": [
    "df.head(5)"
   ]
  },
  {
   "cell_type": "code",
   "execution_count": 135,
   "id": "5146eaed",
   "metadata": {},
   "outputs": [
    {
     "data": {
      "text/html": [
       "<div>\n",
       "<style scoped>\n",
       "    .dataframe tbody tr th:only-of-type {\n",
       "        vertical-align: middle;\n",
       "    }\n",
       "\n",
       "    .dataframe tbody tr th {\n",
       "        vertical-align: top;\n",
       "    }\n",
       "\n",
       "    .dataframe thead th {\n",
       "        text-align: right;\n",
       "    }\n",
       "</style>\n",
       "<table border=\"1\" class=\"dataframe\">\n",
       "  <thead>\n",
       "    <tr style=\"text-align: right;\">\n",
       "      <th></th>\n",
       "      <th>Sales Person</th>\n",
       "      <th>Country</th>\n",
       "      <th>Product</th>\n",
       "      <th>Date</th>\n",
       "      <th>Amount</th>\n",
       "      <th>Boxes Shipped</th>\n",
       "    </tr>\n",
       "  </thead>\n",
       "  <tbody>\n",
       "    <tr>\n",
       "      <th>1089</th>\n",
       "      <td>Karlen McCaffrey</td>\n",
       "      <td>Australia</td>\n",
       "      <td>Spicy Special Slims</td>\n",
       "      <td>2022-05-17</td>\n",
       "      <td>4410</td>\n",
       "      <td>323</td>\n",
       "    </tr>\n",
       "    <tr>\n",
       "      <th>1090</th>\n",
       "      <td>Jehu Rudeforth</td>\n",
       "      <td>USA</td>\n",
       "      <td>White Choc</td>\n",
       "      <td>2022-06-07</td>\n",
       "      <td>6559</td>\n",
       "      <td>119</td>\n",
       "    </tr>\n",
       "    <tr>\n",
       "      <th>1091</th>\n",
       "      <td>Ches Bonnell</td>\n",
       "      <td>Canada</td>\n",
       "      <td>Organic Choco Syrup</td>\n",
       "      <td>2022-07-26</td>\n",
       "      <td>574</td>\n",
       "      <td>217</td>\n",
       "    </tr>\n",
       "    <tr>\n",
       "      <th>1092</th>\n",
       "      <td>Dotty Strutley</td>\n",
       "      <td>India</td>\n",
       "      <td>Eclairs</td>\n",
       "      <td>2022-07-28</td>\n",
       "      <td>2086</td>\n",
       "      <td>384</td>\n",
       "    </tr>\n",
       "    <tr>\n",
       "      <th>1093</th>\n",
       "      <td>Karlen McCaffrey</td>\n",
       "      <td>India</td>\n",
       "      <td>70% Dark Bites</td>\n",
       "      <td>2022-05-23</td>\n",
       "      <td>5075</td>\n",
       "      <td>344</td>\n",
       "    </tr>\n",
       "  </tbody>\n",
       "</table>\n",
       "</div>"
      ],
      "text/plain": [
       "          Sales Person    Country              Product       Date  Amount  \\\n",
       "1089  Karlen McCaffrey  Australia  Spicy Special Slims 2022-05-17    4410   \n",
       "1090    Jehu Rudeforth        USA           White Choc 2022-06-07    6559   \n",
       "1091      Ches Bonnell     Canada  Organic Choco Syrup 2022-07-26     574   \n",
       "1092    Dotty Strutley      India              Eclairs 2022-07-28    2086   \n",
       "1093  Karlen McCaffrey      India       70% Dark Bites 2022-05-23    5075   \n",
       "\n",
       "      Boxes Shipped  \n",
       "1089            323  \n",
       "1090            119  \n",
       "1091            217  \n",
       "1092            384  \n",
       "1093            344  "
      ]
     },
     "execution_count": 135,
     "metadata": {},
     "output_type": "execute_result"
    }
   ],
   "source": [
    "df.tail(5)"
   ]
  },
  {
   "cell_type": "code",
   "execution_count": 136,
   "id": "b7ef2234",
   "metadata": {},
   "outputs": [
    {
     "data": {
      "text/html": [
       "<div>\n",
       "<style scoped>\n",
       "    .dataframe tbody tr th:only-of-type {\n",
       "        vertical-align: middle;\n",
       "    }\n",
       "\n",
       "    .dataframe tbody tr th {\n",
       "        vertical-align: top;\n",
       "    }\n",
       "\n",
       "    .dataframe thead th {\n",
       "        text-align: right;\n",
       "    }\n",
       "</style>\n",
       "<table border=\"1\" class=\"dataframe\">\n",
       "  <thead>\n",
       "    <tr style=\"text-align: right;\">\n",
       "      <th></th>\n",
       "      <th>Sales Person</th>\n",
       "      <th>Country</th>\n",
       "      <th>Product</th>\n",
       "      <th>Date</th>\n",
       "      <th>Amount</th>\n",
       "      <th>Boxes Shipped</th>\n",
       "    </tr>\n",
       "  </thead>\n",
       "  <tbody>\n",
       "    <tr>\n",
       "      <th>17</th>\n",
       "      <td>Roddy Speechley</td>\n",
       "      <td>USA</td>\n",
       "      <td>Smooth Sliky Salty</td>\n",
       "      <td>2022-04-05</td>\n",
       "      <td>3017</td>\n",
       "      <td>140</td>\n",
       "    </tr>\n",
       "    <tr>\n",
       "      <th>695</th>\n",
       "      <td>Mallorie Waber</td>\n",
       "      <td>USA</td>\n",
       "      <td>Peanut Butter Cubes</td>\n",
       "      <td>2022-05-23</td>\n",
       "      <td>1162</td>\n",
       "      <td>18</td>\n",
       "    </tr>\n",
       "    <tr>\n",
       "      <th>136</th>\n",
       "      <td>Roddy Speechley</td>\n",
       "      <td>India</td>\n",
       "      <td>Smooth Sliky Salty</td>\n",
       "      <td>2022-08-10</td>\n",
       "      <td>5103</td>\n",
       "      <td>140</td>\n",
       "    </tr>\n",
       "    <tr>\n",
       "      <th>813</th>\n",
       "      <td>Oby Sorrel</td>\n",
       "      <td>UK</td>\n",
       "      <td>Organic Choco Syrup</td>\n",
       "      <td>2022-06-30</td>\n",
       "      <td>7980</td>\n",
       "      <td>157</td>\n",
       "    </tr>\n",
       "    <tr>\n",
       "      <th>673</th>\n",
       "      <td>Jehu Rudeforth</td>\n",
       "      <td>UK</td>\n",
       "      <td>Smooth Sliky Salty</td>\n",
       "      <td>2022-08-24</td>\n",
       "      <td>1463</td>\n",
       "      <td>113</td>\n",
       "    </tr>\n",
       "  </tbody>\n",
       "</table>\n",
       "</div>"
      ],
      "text/plain": [
       "        Sales Person Country              Product       Date  Amount  \\\n",
       "17   Roddy Speechley     USA   Smooth Sliky Salty 2022-04-05    3017   \n",
       "695   Mallorie Waber     USA  Peanut Butter Cubes 2022-05-23    1162   \n",
       "136  Roddy Speechley   India   Smooth Sliky Salty 2022-08-10    5103   \n",
       "813       Oby Sorrel      UK  Organic Choco Syrup 2022-06-30    7980   \n",
       "673   Jehu Rudeforth      UK   Smooth Sliky Salty 2022-08-24    1463   \n",
       "\n",
       "     Boxes Shipped  \n",
       "17             140  \n",
       "695             18  \n",
       "136            140  \n",
       "813            157  \n",
       "673            113  "
      ]
     },
     "execution_count": 136,
     "metadata": {},
     "output_type": "execute_result"
    }
   ],
   "source": [
    "df.sample(5)"
   ]
  },
  {
   "cell_type": "code",
   "execution_count": null,
   "id": "c91ae921",
   "metadata": {},
   "outputs": [
    {
     "data": {
      "text/plain": [
       "(1094, 7)"
      ]
     },
     "execution_count": 167,
     "metadata": {},
     "output_type": "execute_result"
    }
   ],
   "source": [
    "df.shape"
   ]
  },
  {
   "cell_type": "markdown",
   "id": "5ce6014b",
   "metadata": {},
   "source": [
    "There are 1094 rows and 7 columns"
   ]
  },
  {
   "cell_type": "code",
   "execution_count": 168,
   "id": "df18d5d3",
   "metadata": {},
   "outputs": [
    {
     "data": {
      "text/plain": [
       "Index(['Sales Person', 'Country', 'Product', 'Date', 'Amount', 'Boxes Shipped',\n",
       "       'Month'],\n",
       "      dtype='object')"
      ]
     },
     "execution_count": 168,
     "metadata": {},
     "output_type": "execute_result"
    }
   ],
   "source": [
    "df.columns"
   ]
  },
  {
   "cell_type": "code",
   "execution_count": 171,
   "id": "7a795e19",
   "metadata": {},
   "outputs": [
    {
     "name": "stdout",
     "output_type": "stream",
     "text": [
      "<class 'pandas.core.frame.DataFrame'>\n",
      "RangeIndex: 1094 entries, 0 to 1093\n",
      "Data columns (total 7 columns):\n",
      " #   Column         Non-Null Count  Dtype         \n",
      "---  ------         --------------  -----         \n",
      " 0   Sales Person   1094 non-null   object        \n",
      " 1   Country        1094 non-null   object        \n",
      " 2   Product        1094 non-null   object        \n",
      " 3   Date           1094 non-null   datetime64[ns]\n",
      " 4   Amount         1094 non-null   int64         \n",
      " 5   Boxes Shipped  1094 non-null   int64         \n",
      " 6   Month          1094 non-null   int32         \n",
      "dtypes: datetime64[ns](1), int32(1), int64(2), object(3)\n",
      "memory usage: 55.7+ KB\n"
     ]
    }
   ],
   "source": [
    "df.info()"
   ]
  },
  {
   "cell_type": "code",
   "execution_count": 172,
   "id": "52776de7",
   "metadata": {},
   "outputs": [
    {
     "data": {
      "text/plain": [
       "Sales Person             object\n",
       "Country                  object\n",
       "Product                  object\n",
       "Date             datetime64[ns]\n",
       "Amount                    int64\n",
       "Boxes Shipped             int64\n",
       "Month                     int32\n",
       "dtype: object"
      ]
     },
     "execution_count": 172,
     "metadata": {},
     "output_type": "execute_result"
    }
   ],
   "source": [
    "df.dtypes"
   ]
  },
  {
   "cell_type": "code",
   "execution_count": 175,
   "id": "6440b72f",
   "metadata": {},
   "outputs": [
    {
     "data": {
      "text/html": [
       "<div>\n",
       "<style scoped>\n",
       "    .dataframe tbody tr th:only-of-type {\n",
       "        vertical-align: middle;\n",
       "    }\n",
       "\n",
       "    .dataframe tbody tr th {\n",
       "        vertical-align: top;\n",
       "    }\n",
       "\n",
       "    .dataframe thead th {\n",
       "        text-align: right;\n",
       "    }\n",
       "</style>\n",
       "<table border=\"1\" class=\"dataframe\">\n",
       "  <thead>\n",
       "    <tr style=\"text-align: right;\">\n",
       "      <th></th>\n",
       "      <th>Amount</th>\n",
       "      <th>Boxes Shipped</th>\n",
       "    </tr>\n",
       "  </thead>\n",
       "  <tbody>\n",
       "    <tr>\n",
       "      <th>count</th>\n",
       "      <td>1094.000000</td>\n",
       "      <td>1094.000000</td>\n",
       "    </tr>\n",
       "    <tr>\n",
       "      <th>mean</th>\n",
       "      <td>5652.308044</td>\n",
       "      <td>161.797989</td>\n",
       "    </tr>\n",
       "    <tr>\n",
       "      <th>std</th>\n",
       "      <td>4102.442014</td>\n",
       "      <td>121.544145</td>\n",
       "    </tr>\n",
       "    <tr>\n",
       "      <th>min</th>\n",
       "      <td>7.000000</td>\n",
       "      <td>1.000000</td>\n",
       "    </tr>\n",
       "    <tr>\n",
       "      <th>25%</th>\n",
       "      <td>2390.500000</td>\n",
       "      <td>70.000000</td>\n",
       "    </tr>\n",
       "    <tr>\n",
       "      <th>50%</th>\n",
       "      <td>4868.500000</td>\n",
       "      <td>135.000000</td>\n",
       "    </tr>\n",
       "    <tr>\n",
       "      <th>75%</th>\n",
       "      <td>8027.250000</td>\n",
       "      <td>228.750000</td>\n",
       "    </tr>\n",
       "    <tr>\n",
       "      <th>max</th>\n",
       "      <td>22050.000000</td>\n",
       "      <td>709.000000</td>\n",
       "    </tr>\n",
       "  </tbody>\n",
       "</table>\n",
       "</div>"
      ],
      "text/plain": [
       "             Amount  Boxes Shipped\n",
       "count   1094.000000    1094.000000\n",
       "mean    5652.308044     161.797989\n",
       "std     4102.442014     121.544145\n",
       "min        7.000000       1.000000\n",
       "25%     2390.500000      70.000000\n",
       "50%     4868.500000     135.000000\n",
       "75%     8027.250000     228.750000\n",
       "max    22050.000000     709.000000"
      ]
     },
     "execution_count": 175,
     "metadata": {},
     "output_type": "execute_result"
    }
   ],
   "source": [
    "df[[\"Amount\",\"Boxes Shipped\"]].describe()"
   ]
  },
  {
   "cell_type": "code",
   "execution_count": 177,
   "id": "7b497792",
   "metadata": {},
   "outputs": [
    {
     "data": {
      "text/html": [
       "<div>\n",
       "<style scoped>\n",
       "    .dataframe tbody tr th:only-of-type {\n",
       "        vertical-align: middle;\n",
       "    }\n",
       "\n",
       "    .dataframe tbody tr th {\n",
       "        vertical-align: top;\n",
       "    }\n",
       "\n",
       "    .dataframe thead th {\n",
       "        text-align: right;\n",
       "    }\n",
       "</style>\n",
       "<table border=\"1\" class=\"dataframe\">\n",
       "  <thead>\n",
       "    <tr style=\"text-align: right;\">\n",
       "      <th></th>\n",
       "      <th>Sales Person</th>\n",
       "      <th>Country</th>\n",
       "      <th>Product</th>\n",
       "    </tr>\n",
       "  </thead>\n",
       "  <tbody>\n",
       "    <tr>\n",
       "      <th>count</th>\n",
       "      <td>1094</td>\n",
       "      <td>1094</td>\n",
       "      <td>1094</td>\n",
       "    </tr>\n",
       "    <tr>\n",
       "      <th>unique</th>\n",
       "      <td>25</td>\n",
       "      <td>6</td>\n",
       "      <td>22</td>\n",
       "    </tr>\n",
       "    <tr>\n",
       "      <th>top</th>\n",
       "      <td>Kelci Walkden</td>\n",
       "      <td>Australia</td>\n",
       "      <td>50% Dark Bites</td>\n",
       "    </tr>\n",
       "    <tr>\n",
       "      <th>freq</th>\n",
       "      <td>54</td>\n",
       "      <td>205</td>\n",
       "      <td>60</td>\n",
       "    </tr>\n",
       "  </tbody>\n",
       "</table>\n",
       "</div>"
      ],
      "text/plain": [
       "         Sales Person    Country         Product\n",
       "count            1094       1094            1094\n",
       "unique             25          6              22\n",
       "top     Kelci Walkden  Australia  50% Dark Bites\n",
       "freq               54        205              60"
      ]
     },
     "execution_count": 177,
     "metadata": {},
     "output_type": "execute_result"
    }
   ],
   "source": [
    "df.describe(include='object')"
   ]
  },
  {
   "cell_type": "markdown",
   "id": "ae920637",
   "metadata": {},
   "source": [
    "### b. List the chocolates sold out to India. "
   ]
  },
  {
   "cell_type": "code",
   "execution_count": 137,
   "id": "b3c1b10a",
   "metadata": {},
   "outputs": [
    {
     "data": {
      "text/plain": [
       "array(['85% Dark Bars', 'Peanut Butter Cubes', 'Smooth Sliky Salty',\n",
       "       'Fruit & Nut Bars', 'Manuka Honey Choco', 'Spicy Special Slims',\n",
       "       'Eclairs', 'Almond Choco', '99% Dark & Pure', '50% Dark Bites',\n",
       "       'Organic Choco Syrup', 'Raspberry Choco', 'Orange Choco',\n",
       "       'Caramel Stuffed Bars', \"Baker's Choco Chips\", 'After Nines',\n",
       "       'Drinking Coco', '70% Dark Bites', 'Milk Bars', 'Mint Chip Choco',\n",
       "       'Choco Coated Almonds', 'White Choc'], dtype=object)"
      ]
     },
     "execution_count": 137,
     "metadata": {},
     "output_type": "execute_result"
    }
   ],
   "source": [
    "# Find all the name of the chocolates that sold out to India\n",
    "products = df.loc[df[\"Country\"] == \"India\"][\"Product\"]\n",
    "\n",
    "# Find the name of chocolates\n",
    "products.unique()"
   ]
  },
  {
   "cell_type": "markdown",
   "id": "e5dfedc1",
   "metadata": {},
   "source": [
    "### c. Identify the salesperson with the highest sales by ranking them based on sales amount. "
   ]
  },
  {
   "cell_type": "code",
   "execution_count": null,
   "id": "3c70a273",
   "metadata": {},
   "outputs": [
    {
     "data": {
      "text/plain": [
       "Sales Person\n",
       "Ches Bonnell           320901\n",
       "Oby Sorrel             316645\n",
       "Madelene Upcott        316099\n",
       "Brien Boise            312816\n",
       "Kelci Walkden          311710\n",
       "Van Tuxwell            303149\n",
       "Dennison Crosswaite    291669\n",
       "Beverie Moffet         278922\n",
       "Kaine Padly            266490\n",
       "Marney O'Breen         259742\n",
       "Barr Faughny           258713\n",
       "Roddy Speechley        251062\n",
       "Gunar Cockshoot        238483\n",
       "Gigi Bohling           232666\n",
       "Karlen McCaffrey       223895\n",
       "Jehu Rudeforth         220976\n",
       "Jan Morforth           219667\n",
       "Curtice Advani         216461\n",
       "Rafaelita Blaksland    210245\n",
       "Husein Augar           205212\n",
       "Andria Kimpton         201747\n",
       "Mallorie Waber         200592\n",
       "Camilla Castle         196616\n",
       "Dotty Strutley         190624\n",
       "Wilone O'Kielt         138523\n",
       "Name: Amount, dtype: int64"
      ]
     },
     "execution_count": 138,
     "metadata": {},
     "output_type": "execute_result"
    }
   ],
   "source": [
    "# Sum the amount based on the sales person and sort it descendingly.\n",
    "df.groupby([\"Sales Person\"])[\"Amount\"].sum().sort_values(ascending=False)"
   ]
  },
  {
   "cell_type": "markdown",
   "id": "13a10105",
   "metadata": {},
   "source": [
    "Ches Bonnell "
   ]
  },
  {
   "cell_type": "markdown",
   "id": "1a0106af",
   "metadata": {},
   "source": [
    "### d. Find all sales region or store location where the transaction took place. \n"
   ]
  },
  {
   "cell_type": "code",
   "execution_count": null,
   "id": "81c66dce",
   "metadata": {},
   "outputs": [
    {
     "data": {
      "text/plain": [
       "array(['UK', 'India', 'Australia', 'New Zealand', 'USA', 'Canada'],\n",
       "      dtype=object)"
      ]
     },
     "execution_count": 139,
     "metadata": {},
     "output_type": "execute_result"
    }
   ],
   "source": [
    "# Find all sales region or store location\n",
    "df[\"Country\"].unique()"
   ]
  },
  {
   "cell_type": "markdown",
   "id": "e5990317",
   "metadata": {},
   "source": [
    "Australia Canada India New Zealand UK USA"
   ]
  },
  {
   "cell_type": "markdown",
   "id": "c7bba746",
   "metadata": {},
   "source": [
    "### e. Do additional EDA steps to explain your problem definition in detail."
   ]
  },
  {
   "cell_type": "markdown",
   "id": "fde59f15",
   "metadata": {},
   "source": [
    "### Which chocolate products generate the highest revenue?"
   ]
  },
  {
   "cell_type": "code",
   "execution_count": null,
   "id": "89ce6cc1",
   "metadata": {},
   "outputs": [
    {
     "name": "stdout",
     "output_type": "stream",
     "text": [
      "Product\n",
      "Smooth Sliky Salty    349692\n",
      "50% Dark Bites        341712\n",
      "White Choc            329147\n",
      "Name: Amount, dtype: int64\n"
     ]
    }
   ],
   "source": [
    "# Use Product and Amount columns\n",
    "revenue = df[[\"Product\", \"Amount\"]]\n",
    "\n",
    "# Find the revenue by grouping the product based on the sum of the amount and sort it ascendingly\n",
    "max_rev = revenue.groupby(\"Product\")[\"Amount\"].sum().sort_values(ascending=False)\n",
    "# Get the top 3 revenues\n",
    "top3_rev = max_rev.head(3)\n",
    "print(top3_rev)"
   ]
  },
  {
   "cell_type": "markdown",
   "id": "71eaef83",
   "metadata": {},
   "source": [
    "Smooth Sliky Salty,50% Dark Bites and White Choc"
   ]
  },
  {
   "cell_type": "markdown",
   "id": "7ae24af0",
   "metadata": {},
   "source": [
    "### Which countries contribute most to the total sales?"
   ]
  },
  {
   "cell_type": "code",
   "execution_count": null,
   "id": "6b2a5875",
   "metadata": {},
   "outputs": [
    {
     "name": "stdout",
     "output_type": "stream",
     "text": [
      "Country\n",
      "Australia    1137367\n",
      "UK           1051792\n",
      "India        1045800\n",
      "Name: Amount, dtype: int64\n"
     ]
    }
   ],
   "source": [
    "# Find the country sales by grouping based on country and sum the amount and sort it in descending order\n",
    "country_sales = df.groupby(\"Country\")[\"Amount\"].sum().sort_values(ascending=False)\n",
    "\n",
    "# Find the top 3 countries sales\n",
    "top3_country_sales =country_sales.head(3)\n",
    "print(top3_country_sales)"
   ]
  },
  {
   "cell_type": "markdown",
   "id": "9f3f7588",
   "metadata": {},
   "source": [
    "Australia, UK and India"
   ]
  },
  {
   "cell_type": "markdown",
   "id": "bf07254d",
   "metadata": {},
   "source": [
    "### Is there a correlation between the revenue (Amount) and the number of boxes shipped?\n",
    "\n"
   ]
  },
  {
   "cell_type": "code",
   "execution_count": null,
   "id": "516d24fc",
   "metadata": {},
   "outputs": [
    {
     "data": {
      "text/html": [
       "<div>\n",
       "<style scoped>\n",
       "    .dataframe tbody tr th:only-of-type {\n",
       "        vertical-align: middle;\n",
       "    }\n",
       "\n",
       "    .dataframe tbody tr th {\n",
       "        vertical-align: top;\n",
       "    }\n",
       "\n",
       "    .dataframe thead th {\n",
       "        text-align: right;\n",
       "    }\n",
       "</style>\n",
       "<table border=\"1\" class=\"dataframe\">\n",
       "  <thead>\n",
       "    <tr style=\"text-align: right;\">\n",
       "      <th></th>\n",
       "      <th>Amount</th>\n",
       "      <th>Boxes Shipped</th>\n",
       "    </tr>\n",
       "  </thead>\n",
       "  <tbody>\n",
       "    <tr>\n",
       "      <th>Amount</th>\n",
       "      <td>1.000000</td>\n",
       "      <td>-0.018827</td>\n",
       "    </tr>\n",
       "    <tr>\n",
       "      <th>Boxes Shipped</th>\n",
       "      <td>-0.018827</td>\n",
       "      <td>1.000000</td>\n",
       "    </tr>\n",
       "  </tbody>\n",
       "</table>\n",
       "</div>"
      ],
      "text/plain": [
       "                 Amount  Boxes Shipped\n",
       "Amount         1.000000      -0.018827\n",
       "Boxes Shipped -0.018827       1.000000"
      ]
     },
     "execution_count": 144,
     "metadata": {},
     "output_type": "execute_result"
    }
   ],
   "source": [
    "# Use only Amount and Boxes Shipped columns\n",
    "amount_box_shipped = df[[\"Amount\", \"Boxes Shipped\"]]\n",
    "\n",
    "# Find the correlation between these two columns\n",
    "amount_box_shipped.corr()"
   ]
  },
  {
   "cell_type": "markdown",
   "id": "5027678c",
   "metadata": {},
   "source": [
    "No. There is no correlation between the revenue (Amount) and the number of boxes shipped. The correlation value is very close to 0, and slightly negative."
   ]
  },
  {
   "cell_type": "markdown",
   "id": "d3897d9b",
   "metadata": {},
   "source": [
    "### Do sales vary significantly across different months?"
   ]
  },
  {
   "cell_type": "code",
   "execution_count": null,
   "id": "53005c65",
   "metadata": {},
   "outputs": [
    {
     "name": "stdout",
     "output_type": "stream",
     "text": [
      "Month\n",
      "1    896105\n",
      "2    699377\n",
      "3    749483\n",
      "4    674051\n",
      "5    752892\n",
      "6    865144\n",
      "7    803425\n",
      "8    743148\n",
      "Name: Amount, dtype: int64\n"
     ]
    },
    {
     "data": {
      "text/plain": [
       "count         8.00000\n",
       "mean     772953.12500\n",
       "std       77118.45656\n",
       "min      674051.00000\n",
       "25%      732205.25000\n",
       "50%      751187.50000\n",
       "75%      818854.75000\n",
       "max      896105.00000\n",
       "Name: Amount, dtype: float64"
      ]
     },
     "execution_count": 193,
     "metadata": {},
     "output_type": "execute_result"
    }
   ],
   "source": [
    "# Group by the month and sum all the amount\n",
    "amount_according_month = df.groupby([\"Month\"])[\"Amount\"].sum() \n",
    "print(amount_according_month)\n",
    "amount_according_month.describe()"
   ]
  },
  {
   "cell_type": "markdown",
   "id": "a7a04b08",
   "metadata": {},
   "source": [
    "Yes, sales do vary significantly across different months. Month 1 has the highest amount. In Contrast, Month 4 mark the lowest amount. "
   ]
  },
  {
   "cell_type": "markdown",
   "id": "dd212f3a",
   "metadata": {},
   "source": [
    "### What percentage of total sales is contributed by the top 5 products?\n",
    "\n"
   ]
  },
  {
   "cell_type": "code",
   "execution_count": null,
   "id": "e8a03d41",
   "metadata": {},
   "outputs": [
    {
     "name": "stdout",
     "output_type": "stream",
     "text": [
      "1657838\n"
     ]
    }
   ],
   "source": [
    "# Find product sales by group the Product and calculate the sum of the amount and sort it in descending order\n",
    "product_sales = df.groupby(\"Product\")[\"Amount\"].sum().sort_values(ascending=False)\n",
    "\n",
    "# From the sorted products, select the top 5 highest sales amounts and calculate their combined total.\n",
    "top_5_sales_amount = product_sales.head(5).sum()\n",
    "print(top_5_sales_amount)"
   ]
  },
  {
   "cell_type": "code",
   "execution_count": null,
   "id": "13c49673",
   "metadata": {},
   "outputs": [
    {
     "name": "stdout",
     "output_type": "stream",
     "text": [
      "6183625\n"
     ]
    }
   ],
   "source": [
    "# Find the total sales \n",
    "total_sales_amount = product_sales.sum()\n",
    "print(total_sales_amount)"
   ]
  },
  {
   "cell_type": "code",
   "execution_count": null,
   "id": "860a04b4",
   "metadata": {},
   "outputs": [
    {
     "name": "stdout",
     "output_type": "stream",
     "text": [
      "Top 5 products contributed approximately 26.81% of the total sales.\n"
     ]
    }
   ],
   "source": [
    "# Calculate the percentage of the total sales contributed by the top 5 products\n",
    "percentage = (top_5_sales_amount / total_sales_amount) * 100\n",
    "print(f\"Top 5 products contributed approximately {percentage:.2f}% of the total sales.\")"
   ]
  },
  {
   "cell_type": "markdown",
   "id": "39a2a2af",
   "metadata": {},
   "source": [
    "# 2.5 Data Visualization"
   ]
  },
  {
   "cell_type": "markdown",
   "id": "00ff4eb0",
   "metadata": {},
   "source": [
    "### a. Plot the suitable type of chart to the top 3 countries where the maximum number of boxes shipped."
   ]
  },
  {
   "cell_type": "code",
   "execution_count": null,
   "id": "a870ab3f",
   "metadata": {},
   "outputs": [
    {
     "data": {
      "image/png": "[encoded data removed]",
      "text/plain": [
       "<Figure size 640x480 with 1 Axes>"
      ]
     },
     "metadata": {},
     "output_type": "display_data"
    }
   ],
   "source": [
    "# Find Top 3 coutries by grouping based on the country and sum the boxes shipped and sort descendingly. Get only the first 3\n",
    "top_3_countries = df.groupby(\"Country\")[\"Boxes Shipped\"].sum().sort_values(ascending=False).head(3)\n",
    "\n",
    "# Set the title\n",
    "plt.title(\"Top 3 Countries where the Maximum Number of Boxes Shipped\")\n",
    "\n",
    "# Plot a bar chart\n",
    "plt.bar(x=top_3_countries.index,height=top_3_countries)\n",
    "\n",
    "# Label x-axis\n",
    "plt.xlabel(\"Countries\")\n",
    "\n",
    "# Label y-axis\n",
    "plt.ylabel(\"Number of Boxes Shipped\")\n",
    "\n",
    "# Show the plot\n",
    "plt.show()"
   ]
  },
  {
   "cell_type": "markdown",
   "id": "946c76e6",
   "metadata": {},
   "source": [
    "### b. Select the appropriate chart type to create an interactive visualization of the monthly sales report categorized by country."
   ]
  },
  {
   "cell_type": "code",
   "execution_count": null,
   "id": "d8f3ccb5",
   "metadata": {},
   "outputs": [
    {
     "data": {
      "text/plain": [
       "<pandas.core.groupby.generic.SeriesGroupBy object at 0x000001709F922E40>"
      ]
     },
     "execution_count": 183,
     "metadata": {},
     "output_type": "execute_result"
    }
   ],
   "source": [
    "df.groupby(\"Country\")[\"Amount\"]\n",
    "# TODO: Do a bokeh graph"
   ]
  },
  {
   "cell_type": "markdown",
   "id": "4a536edc",
   "metadata": {},
   "source": [
    "### c. Draw more graphs/interactive graphs to explain your problem definition in detail."
   ]
  },
  {
   "cell_type": "markdown",
   "id": "1c63ab6f",
   "metadata": {},
   "source": [
    "### Which chocolate products generate the highest revenue?\n"
   ]
  },
  {
   "cell_type": "code",
   "execution_count": null,
   "id": "f3195cf2",
   "metadata": {},
   "outputs": [
    {
     "data": {
      "image/png": "[encoded data removed]",
      "text/plain": [
       "<Figure size 640x480 with 1 Axes>"
      ]
     },
     "metadata": {},
     "output_type": "display_data"
    }
   ],
   "source": [
    "# Plot a bar chart with chocolate colour\n",
    "plt.bar(x=top3_rev.index, height=top3_rev, color=\"chocolate\")\n",
    "\n",
    "# Set the title\n",
    "plt.title(\"Top 3 Products that Generate the Highest Revenue\")\n",
    "\n",
    "# Set the x-axis label\n",
    "plt.xlabel(\"Product\")\n",
    "\n",
    "# Set the y-axis label\n",
    "plt.ylabel(\"Amount\")\n",
    "\n",
    "# Show the plot\n",
    "plt.show()"
   ]
  },
  {
   "cell_type": "markdown",
   "id": "8d04da31",
   "metadata": {},
   "source": [
    "### Which countries contribute most to the total sales?"
   ]
  },
  {
   "cell_type": "code",
   "execution_count": null,
   "id": "cd2296b3",
   "metadata": {},
   "outputs": [
    {
     "data": {
      "image/png": "[encoded data removed]",
      "text/plain": [
       "<Figure size 640x480 with 1 Axes>"
      ]
     },
     "metadata": {},
     "output_type": "display_data"
    }
   ],
   "source": [
    "# Plot a bar chart with green colour\n",
    "plt.bar(x=top3_country_sales.index, height=top3_country_sales,color=\"g\")\n",
    "\n",
    "# Set the title\n",
    "plt.title(\"Top 3 Countries Sales\")\n",
    "\n",
    "# Set the x-axis label\n",
    "plt.xlabel(\"Country\")\n",
    "\n",
    "# Set the y-axis label\n",
    "plt.ylabel(\"Amount\")\n",
    "\n",
    "# Show the plot\n",
    "plt.show()"
   ]
  },
  {
   "cell_type": "markdown",
   "id": "dce14b20",
   "metadata": {},
   "source": [
    "### Do sales vary significantly across different months?"
   ]
  },
  {
   "cell_type": "code",
   "execution_count": null,
   "id": "a0811fb1",
   "metadata": {},
   "outputs": [
    {
     "data": {
      "image/png": "[encoded data removed]",
      "text/plain": [
       "<Figure size 640x480 with 1 Axes>"
      ]
     },
     "metadata": {},
     "output_type": "display_data"
    }
   ],
   "source": [
    "# Plot a line graph\n",
    "plt.plot(amount_according_month.index, amount_according_month.values, color='red')\n",
    "\n",
    "# Set the title\n",
    "plt.title(\"Sales according to the Month\")\n",
    "\n",
    "# Set the x-axis label\n",
    "plt.xlabel(xlabel=\"Month\")\n",
    "\n",
    "# Set the y-axis label\n",
    "plt.ylabel(ylabel=\"Amount\")\n",
    "\n",
    "# Show the plot\n",
    "plt.show()\n"
   ]
  },
  {
   "cell_type": "markdown",
   "id": "06e8ea80",
   "metadata": {},
   "source": [
    "Yes, sales do vary significantly across different months. From Month 1 to Month 2, there's a sharp drop in sales. Then there is a small recovery in Month 3. Another drop happens in Month 4, reaching the lowest point. Sales rise sharply again in Month 5 and peak around Month 6. After Month 6, sales decline steadily into Month 8.\n",
    "\n"
   ]
  },
  {
   "cell_type": "code",
   "execution_count": null,
   "id": "7b2ea44b",
   "metadata": {},
   "outputs": [],
   "source": []
  }
 ],
 "metadata": {
  "kernelspec": {
   "display_name": "base",
   "language": "python",
   "name": "python3"
  },
  "language_info": {
   "codemirror_mode": {
    "name": "ipython",
    "version": 3
   },
   "file_extension": ".py",
   "mimetype": "text/x-python",
   "name": "python",
   "nbconvert_exporter": "python",
   "pygments_lexer": "ipython3",
   "version": "3.12.7"
  }
 },
 "nbformat": 4,
 "nbformat_minor": 5
}
